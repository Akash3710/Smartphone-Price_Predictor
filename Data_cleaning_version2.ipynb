{
 "cells": [
  {
   "cell_type": "markdown",
   "id": "e706212d-56e7-498a-8966-49aa2b98a01e",
   "metadata": {},
   "source": [
    "#### In this we will make some new columns from existing ones so that we get better insights in our Analysis Later"
   ]
  },
  {
   "cell_type": "code",
   "execution_count": 2,
   "id": "57d32bea-5670-476b-ba68-03f059f224e4",
   "metadata": {},
   "outputs": [],
   "source": [
    "import pandas as pd\n",
    "import numpy as np"
   ]
  },
  {
   "cell_type": "code",
   "execution_count": 3,
   "id": "ff9de378-768b-45c3-a680-62250c9598c4",
   "metadata": {},
   "outputs": [],
   "source": [
    "#load the data\n",
    "df=pd.read_csv('mobiles_cleaned_version1.csv')"
   ]
  },
  {
   "cell_type": "code",
   "execution_count": 4,
   "id": "f6ebe8e5-9012-4ae9-96c1-bdc79c2d10a5",
   "metadata": {},
   "outputs": [],
   "source": [
    "#copy of data\n",
    "df1=df.copy()"
   ]
  },
  {
   "cell_type": "code",
   "execution_count": 5,
   "id": "595471bc-d8e6-469d-b83b-de7a80810942",
   "metadata": {},
   "outputs": [
    {
     "data": {
      "text/html": [
       "<div>\n",
       "<style scoped>\n",
       "    .dataframe tbody tr th:only-of-type {\n",
       "        vertical-align: middle;\n",
       "    }\n",
       "\n",
       "    .dataframe tbody tr th {\n",
       "        vertical-align: top;\n",
       "    }\n",
       "\n",
       "    .dataframe thead th {\n",
       "        text-align: right;\n",
       "    }\n",
       "</style>\n",
       "<table border=\"1\" class=\"dataframe\">\n",
       "  <thead>\n",
       "    <tr style=\"text-align: right;\">\n",
       "      <th></th>\n",
       "      <th>mobile_name</th>\n",
       "      <th>price</th>\n",
       "      <th>rating</th>\n",
       "      <th>connectivity</th>\n",
       "      <th>processor</th>\n",
       "      <th>storage</th>\n",
       "      <th>battery</th>\n",
       "      <th>display</th>\n",
       "      <th>camera</th>\n",
       "      <th>extra_storage</th>\n",
       "      <th>os</th>\n",
       "    </tr>\n",
       "  </thead>\n",
       "  <tbody>\n",
       "    <tr>\n",
       "      <th>0</th>\n",
       "      <td>OPPO Reno 11</td>\n",
       "      <td>29990</td>\n",
       "      <td>4.70</td>\n",
       "      <td>Dual Sim, 3G, 4G, 5G, VoLTE, Wi-Fi, NFC, IR Bl...</td>\n",
       "      <td>Dimensity 8200, Octa Core, 3.1 GHz Processor</td>\n",
       "      <td>8 GB RAM, 256 GB inbuilt</td>\n",
       "      <td>4800 mAh Battery with 67W Fast Charging</td>\n",
       "      <td>6.7 inches, 1080 x 2412 px, 120 Hz Display wit...</td>\n",
       "      <td>50 MP + 32 MP + 8 MP Triple Rear &amp; 32 MP Front...</td>\n",
       "      <td>Memory Card Not Supported</td>\n",
       "      <td>Android v14</td>\n",
       "    </tr>\n",
       "    <tr>\n",
       "      <th>1</th>\n",
       "      <td>Poco X6 Pro 5G</td>\n",
       "      <td>19999</td>\n",
       "      <td>4.50</td>\n",
       "      <td>Dual Sim, 3G, 4G, 5G, VoLTE, Wi-Fi, NFC, IR Bl...</td>\n",
       "      <td>Dimensity 8300 Ultra, Octa Core, 3.35 GHz Proc...</td>\n",
       "      <td>12 GB RAM, 256 GB inbuilt</td>\n",
       "      <td>5500 mAh Battery with 90W Fast Charging</td>\n",
       "      <td>6.67 inches, 1220 x 2712 px, 120 Hz Display wi...</td>\n",
       "      <td>64 MP + 8 MP + 2 MP Triple Rear &amp; 16 MP Front ...</td>\n",
       "      <td>Memory Card Not Supported</td>\n",
       "      <td>Android v14</td>\n",
       "    </tr>\n",
       "    <tr>\n",
       "      <th>2</th>\n",
       "      <td>Xiaomi Redmi Note 13 Pro Plus</td>\n",
       "      <td>31999</td>\n",
       "      <td>4.35</td>\n",
       "      <td>Dual Sim, 3G, 4G, 5G, VoLTE, Wi-Fi, NFC, IR Bl...</td>\n",
       "      <td>Dimensity 7200 Ultra, Octa Core, 2.8 GHz Proce...</td>\n",
       "      <td>8 GB RAM, 256 GB inbuilt</td>\n",
       "      <td>5000 mAh Battery with 120W Fast Charging</td>\n",
       "      <td>6.67 inches, 1220 x 2712 px, 120 Hz Display wi...</td>\n",
       "      <td>200 MP + 8 MP + 2 MP Triple Rear &amp; 16 MP Front...</td>\n",
       "      <td>Memory Card Not Supported</td>\n",
       "      <td>Android v13</td>\n",
       "    </tr>\n",
       "  </tbody>\n",
       "</table>\n",
       "</div>"
      ],
      "text/plain": [
       "                     mobile_name  price  rating  \\\n",
       "0                   OPPO Reno 11  29990    4.70   \n",
       "1                 Poco X6 Pro 5G  19999    4.50   \n",
       "2  Xiaomi Redmi Note 13 Pro Plus  31999    4.35   \n",
       "\n",
       "                                        connectivity  \\\n",
       "0  Dual Sim, 3G, 4G, 5G, VoLTE, Wi-Fi, NFC, IR Bl...   \n",
       "1  Dual Sim, 3G, 4G, 5G, VoLTE, Wi-Fi, NFC, IR Bl...   \n",
       "2  Dual Sim, 3G, 4G, 5G, VoLTE, Wi-Fi, NFC, IR Bl...   \n",
       "\n",
       "                                           processor  \\\n",
       "0       Dimensity 8200, Octa Core, 3.1 GHz Processor   \n",
       "1  Dimensity 8300 Ultra, Octa Core, 3.35 GHz Proc...   \n",
       "2  Dimensity 7200 Ultra, Octa Core, 2.8 GHz Proce...   \n",
       "\n",
       "                     storage                                   battery  \\\n",
       "0   8 GB RAM, 256 GB inbuilt   4800 mAh Battery with 67W Fast Charging   \n",
       "1  12 GB RAM, 256 GB inbuilt   5500 mAh Battery with 90W Fast Charging   \n",
       "2   8 GB RAM, 256 GB inbuilt  5000 mAh Battery with 120W Fast Charging   \n",
       "\n",
       "                                             display  \\\n",
       "0  6.7 inches, 1080 x 2412 px, 120 Hz Display wit...   \n",
       "1  6.67 inches, 1220 x 2712 px, 120 Hz Display wi...   \n",
       "2  6.67 inches, 1220 x 2712 px, 120 Hz Display wi...   \n",
       "\n",
       "                                              camera  \\\n",
       "0  50 MP + 32 MP + 8 MP Triple Rear & 32 MP Front...   \n",
       "1  64 MP + 8 MP + 2 MP Triple Rear & 16 MP Front ...   \n",
       "2  200 MP + 8 MP + 2 MP Triple Rear & 16 MP Front...   \n",
       "\n",
       "               extra_storage           os  \n",
       "0  Memory Card Not Supported  Android v14  \n",
       "1  Memory Card Not Supported  Android v14  \n",
       "2  Memory Card Not Supported  Android v13  "
      ]
     },
     "execution_count": 5,
     "metadata": {},
     "output_type": "execute_result"
    }
   ],
   "source": [
    "df1.head(3)"
   ]
  },
  {
   "cell_type": "markdown",
   "id": "043d058b-31fc-4c1a-a86c-52ff3009e9af",
   "metadata": {},
   "source": [
    "#here we will make a new column with brand name from mobile_name"
   ]
  },
  {
   "cell_type": "code",
   "execution_count": 7,
   "id": "90175d7a-09a8-4f1c-b980-5d34271eb29c",
   "metadata": {},
   "outputs": [],
   "source": [
    "#here we will make a new column with brand name from mobile_name\n",
    "brand=df['mobile_name'].str.split(' ').str.get(0).str.lower()"
   ]
  },
  {
   "cell_type": "code",
   "execution_count": 8,
   "id": "c7392e34-c4a8-48aa-91a1-0cd471b0aed8",
   "metadata": {},
   "outputs": [],
   "source": [
    "df1.insert(1,'brand',brand)"
   ]
  },
  {
   "cell_type": "code",
   "execution_count": 9,
   "id": "fd87cba2-044d-40ba-8d45-64350312e3e6",
   "metadata": {},
   "outputs": [
    {
     "data": {
      "text/html": [
       "<div>\n",
       "<style scoped>\n",
       "    .dataframe tbody tr th:only-of-type {\n",
       "        vertical-align: middle;\n",
       "    }\n",
       "\n",
       "    .dataframe tbody tr th {\n",
       "        vertical-align: top;\n",
       "    }\n",
       "\n",
       "    .dataframe thead th {\n",
       "        text-align: right;\n",
       "    }\n",
       "</style>\n",
       "<table border=\"1\" class=\"dataframe\">\n",
       "  <thead>\n",
       "    <tr style=\"text-align: right;\">\n",
       "      <th></th>\n",
       "      <th>mobile_name</th>\n",
       "      <th>brand</th>\n",
       "      <th>price</th>\n",
       "      <th>rating</th>\n",
       "      <th>connectivity</th>\n",
       "      <th>processor</th>\n",
       "      <th>storage</th>\n",
       "      <th>battery</th>\n",
       "      <th>display</th>\n",
       "      <th>camera</th>\n",
       "      <th>extra_storage</th>\n",
       "      <th>os</th>\n",
       "    </tr>\n",
       "  </thead>\n",
       "  <tbody>\n",
       "    <tr>\n",
       "      <th>0</th>\n",
       "      <td>OPPO Reno 11</td>\n",
       "      <td>oppo</td>\n",
       "      <td>29990</td>\n",
       "      <td>4.7</td>\n",
       "      <td>Dual Sim, 3G, 4G, 5G, VoLTE, Wi-Fi, NFC, IR Bl...</td>\n",
       "      <td>Dimensity 8200, Octa Core, 3.1 GHz Processor</td>\n",
       "      <td>8 GB RAM, 256 GB inbuilt</td>\n",
       "      <td>4800 mAh Battery with 67W Fast Charging</td>\n",
       "      <td>6.7 inches, 1080 x 2412 px, 120 Hz Display wit...</td>\n",
       "      <td>50 MP + 32 MP + 8 MP Triple Rear &amp; 32 MP Front...</td>\n",
       "      <td>Memory Card Not Supported</td>\n",
       "      <td>Android v14</td>\n",
       "    </tr>\n",
       "    <tr>\n",
       "      <th>1</th>\n",
       "      <td>Poco X6 Pro 5G</td>\n",
       "      <td>poco</td>\n",
       "      <td>19999</td>\n",
       "      <td>4.5</td>\n",
       "      <td>Dual Sim, 3G, 4G, 5G, VoLTE, Wi-Fi, NFC, IR Bl...</td>\n",
       "      <td>Dimensity 8300 Ultra, Octa Core, 3.35 GHz Proc...</td>\n",
       "      <td>12 GB RAM, 256 GB inbuilt</td>\n",
       "      <td>5500 mAh Battery with 90W Fast Charging</td>\n",
       "      <td>6.67 inches, 1220 x 2712 px, 120 Hz Display wi...</td>\n",
       "      <td>64 MP + 8 MP + 2 MP Triple Rear &amp; 16 MP Front ...</td>\n",
       "      <td>Memory Card Not Supported</td>\n",
       "      <td>Android v14</td>\n",
       "    </tr>\n",
       "  </tbody>\n",
       "</table>\n",
       "</div>"
      ],
      "text/plain": [
       "      mobile_name brand  price  rating  \\\n",
       "0    OPPO Reno 11  oppo  29990     4.7   \n",
       "1  Poco X6 Pro 5G  poco  19999     4.5   \n",
       "\n",
       "                                        connectivity  \\\n",
       "0  Dual Sim, 3G, 4G, 5G, VoLTE, Wi-Fi, NFC, IR Bl...   \n",
       "1  Dual Sim, 3G, 4G, 5G, VoLTE, Wi-Fi, NFC, IR Bl...   \n",
       "\n",
       "                                           processor  \\\n",
       "0       Dimensity 8200, Octa Core, 3.1 GHz Processor   \n",
       "1  Dimensity 8300 Ultra, Octa Core, 3.35 GHz Proc...   \n",
       "\n",
       "                     storage                                  battery  \\\n",
       "0   8 GB RAM, 256 GB inbuilt  4800 mAh Battery with 67W Fast Charging   \n",
       "1  12 GB RAM, 256 GB inbuilt  5500 mAh Battery with 90W Fast Charging   \n",
       "\n",
       "                                             display  \\\n",
       "0  6.7 inches, 1080 x 2412 px, 120 Hz Display wit...   \n",
       "1  6.67 inches, 1220 x 2712 px, 120 Hz Display wi...   \n",
       "\n",
       "                                              camera  \\\n",
       "0  50 MP + 32 MP + 8 MP Triple Rear & 32 MP Front...   \n",
       "1  64 MP + 8 MP + 2 MP Triple Rear & 16 MP Front ...   \n",
       "\n",
       "               extra_storage           os  \n",
       "0  Memory Card Not Supported  Android v14  \n",
       "1  Memory Card Not Supported  Android v14  "
      ]
     },
     "execution_count": 9,
     "metadata": {},
     "output_type": "execute_result"
    }
   ],
   "source": [
    "df1.head(2)"
   ]
  },
  {
   "cell_type": "code",
   "execution_count": 10,
   "id": "8335e24a-07a2-4194-a955-885f32b0ccac",
   "metadata": {},
   "outputs": [
    {
     "data": {
      "text/plain": [
       "array(['Dual Sim, 3G, 4G, 5G, VoLTE, Wi-Fi, NFC, IR Blaster',\n",
       "       'Dual Sim, 3G, 4G, 5G, VoLTE, Wi-Fi, NFC, IR Blaster',\n",
       "       'Dual Sim, 3G, 4G, 5G, VoLTE, Wi-Fi, NFC, IR Blaster', ...,\n",
       "       'Dual Sim, 3G, 4G, 5G, VoLTE, Wi-Fi, NFC, IR Blaster',\n",
       "       'Dual Sim, 3G, 4G, 5G, VoLTE, Wi-Fi, NFC',\n",
       "       'Dual Sim, 3G, 4G, 5G, VoLTE, Wi-Fi'], dtype=object)"
      ]
     },
     "execution_count": 10,
     "metadata": {},
     "output_type": "execute_result"
    }
   ],
   "source": [
    "df['connectivity'].values"
   ]
  },
  {
   "cell_type": "code",
   "execution_count": 11,
   "id": "7fddb8dd-97af-48ad-bbed-c2fe188e2e02",
   "metadata": {},
   "outputs": [],
   "source": [
    "#here we will make 3 new cloumn with name has_5g ,has_nfc,as_ir_blaster from connectivity columns beacause these not common to all \n",
    "#while info like 4g,dual sim ,volte is in all phones\n",
    "has_5g=df['connectivity'].str.contains('5G')\n",
    "has_nfc=df['connectivity'].str.contains('NFC')\n",
    "has_IRblaster=df['connectivity'].str.contains('IR Blaster')"
   ]
  },
  {
   "cell_type": "code",
   "execution_count": 12,
   "id": "195bde42-0cfe-4055-b53d-13fde5b16f6c",
   "metadata": {},
   "outputs": [],
   "source": [
    "df1.insert(6,'5g',has_5g)\n",
    "df1.insert(7,'nfc',has_nfc)\n",
    "df1.insert(8,'ir_blaster',has_IRblaster)"
   ]
  },
  {
   "cell_type": "code",
   "execution_count": 13,
   "id": "80f17411-ab02-4dce-86af-ff960d176a81",
   "metadata": {},
   "outputs": [
    {
     "data": {
      "text/html": [
       "<div>\n",
       "<style scoped>\n",
       "    .dataframe tbody tr th:only-of-type {\n",
       "        vertical-align: middle;\n",
       "    }\n",
       "\n",
       "    .dataframe tbody tr th {\n",
       "        vertical-align: top;\n",
       "    }\n",
       "\n",
       "    .dataframe thead th {\n",
       "        text-align: right;\n",
       "    }\n",
       "</style>\n",
       "<table border=\"1\" class=\"dataframe\">\n",
       "  <thead>\n",
       "    <tr style=\"text-align: right;\">\n",
       "      <th></th>\n",
       "      <th>mobile_name</th>\n",
       "      <th>brand</th>\n",
       "      <th>price</th>\n",
       "      <th>rating</th>\n",
       "      <th>connectivity</th>\n",
       "      <th>processor</th>\n",
       "      <th>5g</th>\n",
       "      <th>nfc</th>\n",
       "      <th>ir_blaster</th>\n",
       "      <th>storage</th>\n",
       "      <th>battery</th>\n",
       "      <th>display</th>\n",
       "      <th>camera</th>\n",
       "      <th>extra_storage</th>\n",
       "      <th>os</th>\n",
       "    </tr>\n",
       "  </thead>\n",
       "  <tbody>\n",
       "    <tr>\n",
       "      <th>0</th>\n",
       "      <td>OPPO Reno 11</td>\n",
       "      <td>oppo</td>\n",
       "      <td>29990</td>\n",
       "      <td>4.7</td>\n",
       "      <td>Dual Sim, 3G, 4G, 5G, VoLTE, Wi-Fi, NFC, IR Bl...</td>\n",
       "      <td>Dimensity 8200, Octa Core, 3.1 GHz Processor</td>\n",
       "      <td>True</td>\n",
       "      <td>True</td>\n",
       "      <td>True</td>\n",
       "      <td>8 GB RAM, 256 GB inbuilt</td>\n",
       "      <td>4800 mAh Battery with 67W Fast Charging</td>\n",
       "      <td>6.7 inches, 1080 x 2412 px, 120 Hz Display wit...</td>\n",
       "      <td>50 MP + 32 MP + 8 MP Triple Rear &amp; 32 MP Front...</td>\n",
       "      <td>Memory Card Not Supported</td>\n",
       "      <td>Android v14</td>\n",
       "    </tr>\n",
       "    <tr>\n",
       "      <th>1</th>\n",
       "      <td>Poco X6 Pro 5G</td>\n",
       "      <td>poco</td>\n",
       "      <td>19999</td>\n",
       "      <td>4.5</td>\n",
       "      <td>Dual Sim, 3G, 4G, 5G, VoLTE, Wi-Fi, NFC, IR Bl...</td>\n",
       "      <td>Dimensity 8300 Ultra, Octa Core, 3.35 GHz Proc...</td>\n",
       "      <td>True</td>\n",
       "      <td>True</td>\n",
       "      <td>True</td>\n",
       "      <td>12 GB RAM, 256 GB inbuilt</td>\n",
       "      <td>5500 mAh Battery with 90W Fast Charging</td>\n",
       "      <td>6.67 inches, 1220 x 2712 px, 120 Hz Display wi...</td>\n",
       "      <td>64 MP + 8 MP + 2 MP Triple Rear &amp; 16 MP Front ...</td>\n",
       "      <td>Memory Card Not Supported</td>\n",
       "      <td>Android v14</td>\n",
       "    </tr>\n",
       "  </tbody>\n",
       "</table>\n",
       "</div>"
      ],
      "text/plain": [
       "      mobile_name brand  price  rating  \\\n",
       "0    OPPO Reno 11  oppo  29990     4.7   \n",
       "1  Poco X6 Pro 5G  poco  19999     4.5   \n",
       "\n",
       "                                        connectivity  \\\n",
       "0  Dual Sim, 3G, 4G, 5G, VoLTE, Wi-Fi, NFC, IR Bl...   \n",
       "1  Dual Sim, 3G, 4G, 5G, VoLTE, Wi-Fi, NFC, IR Bl...   \n",
       "\n",
       "                                           processor    5g   nfc  ir_blaster  \\\n",
       "0       Dimensity 8200, Octa Core, 3.1 GHz Processor  True  True        True   \n",
       "1  Dimensity 8300 Ultra, Octa Core, 3.35 GHz Proc...  True  True        True   \n",
       "\n",
       "                     storage                                  battery  \\\n",
       "0   8 GB RAM, 256 GB inbuilt  4800 mAh Battery with 67W Fast Charging   \n",
       "1  12 GB RAM, 256 GB inbuilt  5500 mAh Battery with 90W Fast Charging   \n",
       "\n",
       "                                             display  \\\n",
       "0  6.7 inches, 1080 x 2412 px, 120 Hz Display wit...   \n",
       "1  6.67 inches, 1220 x 2712 px, 120 Hz Display wi...   \n",
       "\n",
       "                                              camera  \\\n",
       "0  50 MP + 32 MP + 8 MP Triple Rear & 32 MP Front...   \n",
       "1  64 MP + 8 MP + 2 MP Triple Rear & 16 MP Front ...   \n",
       "\n",
       "               extra_storage           os  \n",
       "0  Memory Card Not Supported  Android v14  \n",
       "1  Memory Card Not Supported  Android v14  "
      ]
     },
     "execution_count": 13,
     "metadata": {},
     "output_type": "execute_result"
    }
   ],
   "source": [
    "df1.head(2)"
   ]
  },
  {
   "cell_type": "code",
   "execution_count": 14,
   "id": "f0e1c593-4be6-4d4b-955b-f0cfda9e1693",
   "metadata": {},
   "outputs": [],
   "source": [
    "#now we will make 4 new columns from processor that are processor_brand,processor name, number of cores,processor speed\n",
    "processor_name=df['processor'].str.split(',').str.get(0).values\n",
    "num_cores=df['processor'].str.split(',').str.get(1).values\n",
    "processor_speed=df['processor'].str.split(',').str.get(2).values"
   ]
  },
  {
   "cell_type": "code",
   "execution_count": 15,
   "id": "607367b1-19e3-4dd5-8fd1-56974e07ca99",
   "metadata": {},
   "outputs": [],
   "source": [
    "#inserting new columns\n",
    "df1.insert(9,'processor_name',processor_name)\n",
    "df1.insert(10,'num_cores',num_cores)\n",
    "df1.insert(11,'processor_speed',processor_speed)"
   ]
  },
  {
   "cell_type": "code",
   "execution_count": 16,
   "id": "827e91fb-68ff-42d9-8a63-f01262c1ab6a",
   "metadata": {},
   "outputs": [
    {
     "data": {
      "text/html": [
       "<div>\n",
       "<style scoped>\n",
       "    .dataframe tbody tr th:only-of-type {\n",
       "        vertical-align: middle;\n",
       "    }\n",
       "\n",
       "    .dataframe tbody tr th {\n",
       "        vertical-align: top;\n",
       "    }\n",
       "\n",
       "    .dataframe thead th {\n",
       "        text-align: right;\n",
       "    }\n",
       "</style>\n",
       "<table border=\"1\" class=\"dataframe\">\n",
       "  <thead>\n",
       "    <tr style=\"text-align: right;\">\n",
       "      <th></th>\n",
       "      <th>mobile_name</th>\n",
       "      <th>brand</th>\n",
       "      <th>price</th>\n",
       "      <th>rating</th>\n",
       "      <th>connectivity</th>\n",
       "      <th>processor</th>\n",
       "      <th>5g</th>\n",
       "      <th>nfc</th>\n",
       "      <th>ir_blaster</th>\n",
       "      <th>processor_name</th>\n",
       "      <th>num_cores</th>\n",
       "      <th>processor_speed</th>\n",
       "      <th>storage</th>\n",
       "      <th>battery</th>\n",
       "      <th>display</th>\n",
       "      <th>camera</th>\n",
       "      <th>extra_storage</th>\n",
       "      <th>os</th>\n",
       "    </tr>\n",
       "  </thead>\n",
       "  <tbody>\n",
       "    <tr>\n",
       "      <th>0</th>\n",
       "      <td>OPPO Reno 11</td>\n",
       "      <td>oppo</td>\n",
       "      <td>29990</td>\n",
       "      <td>4.7</td>\n",
       "      <td>Dual Sim, 3G, 4G, 5G, VoLTE, Wi-Fi, NFC, IR Bl...</td>\n",
       "      <td>Dimensity 8200, Octa Core, 3.1 GHz Processor</td>\n",
       "      <td>True</td>\n",
       "      <td>True</td>\n",
       "      <td>True</td>\n",
       "      <td>Dimensity 8200</td>\n",
       "      <td>Octa Core</td>\n",
       "      <td>3.1 GHz Processor</td>\n",
       "      <td>8 GB RAM, 256 GB inbuilt</td>\n",
       "      <td>4800 mAh Battery with 67W Fast Charging</td>\n",
       "      <td>6.7 inches, 1080 x 2412 px, 120 Hz Display wit...</td>\n",
       "      <td>50 MP + 32 MP + 8 MP Triple Rear &amp; 32 MP Front...</td>\n",
       "      <td>Memory Card Not Supported</td>\n",
       "      <td>Android v14</td>\n",
       "    </tr>\n",
       "  </tbody>\n",
       "</table>\n",
       "</div>"
      ],
      "text/plain": [
       "    mobile_name brand  price  rating  \\\n",
       "0  OPPO Reno 11  oppo  29990     4.7   \n",
       "\n",
       "                                        connectivity  \\\n",
       "0  Dual Sim, 3G, 4G, 5G, VoLTE, Wi-Fi, NFC, IR Bl...   \n",
       "\n",
       "                                      processor    5g   nfc  ir_blaster  \\\n",
       "0  Dimensity 8200, Octa Core, 3.1 GHz Processor  True  True        True   \n",
       "\n",
       "   processor_name   num_cores     processor_speed                   storage  \\\n",
       "0  Dimensity 8200   Octa Core   3.1 GHz Processor  8 GB RAM, 256 GB inbuilt   \n",
       "\n",
       "                                   battery  \\\n",
       "0  4800 mAh Battery with 67W Fast Charging   \n",
       "\n",
       "                                             display  \\\n",
       "0  6.7 inches, 1080 x 2412 px, 120 Hz Display wit...   \n",
       "\n",
       "                                              camera  \\\n",
       "0  50 MP + 32 MP + 8 MP Triple Rear & 32 MP Front...   \n",
       "\n",
       "               extra_storage           os  \n",
       "0  Memory Card Not Supported  Android v14  "
      ]
     },
     "execution_count": 16,
     "metadata": {},
     "output_type": "execute_result"
    }
   ],
   "source": [
    "df1.head(1)"
   ]
  },
  {
   "cell_type": "code",
   "execution_count": 17,
   "id": "69fe94f2-e861-4b76-b556-937d8d681f51",
   "metadata": {},
   "outputs": [],
   "source": [
    "\n",
    "df1['processor_name']=df1['processor_name'].str.strip()"
   ]
  },
  {
   "cell_type": "code",
   "execution_count": 18,
   "id": "448d1aa8-83b0-4090-881a-2a93dff613c4",
   "metadata": {},
   "outputs": [
    {
     "data": {
      "text/html": [
       "<div>\n",
       "<style scoped>\n",
       "    .dataframe tbody tr th:only-of-type {\n",
       "        vertical-align: middle;\n",
       "    }\n",
       "\n",
       "    .dataframe tbody tr th {\n",
       "        vertical-align: top;\n",
       "    }\n",
       "\n",
       "    .dataframe thead th {\n",
       "        text-align: right;\n",
       "    }\n",
       "</style>\n",
       "<table border=\"1\" class=\"dataframe\">\n",
       "  <thead>\n",
       "    <tr style=\"text-align: right;\">\n",
       "      <th></th>\n",
       "      <th>processor_name</th>\n",
       "      <th>num_cores</th>\n",
       "      <th>processor_speed</th>\n",
       "    </tr>\n",
       "  </thead>\n",
       "  <tbody>\n",
       "    <tr>\n",
       "      <th>227</th>\n",
       "      <td>Octa Core Processor</td>\n",
       "      <td>NaN</td>\n",
       "      <td>NaN</td>\n",
       "    </tr>\n",
       "    <tr>\n",
       "      <th>246</th>\n",
       "      <td>Octa Core Processor</td>\n",
       "      <td>NaN</td>\n",
       "      <td>NaN</td>\n",
       "    </tr>\n",
       "    <tr>\n",
       "      <th>282</th>\n",
       "      <td>Octa Core Processor</td>\n",
       "      <td>NaN</td>\n",
       "      <td>NaN</td>\n",
       "    </tr>\n",
       "    <tr>\n",
       "      <th>306</th>\n",
       "      <td>Octa Core Processor</td>\n",
       "      <td>NaN</td>\n",
       "      <td>NaN</td>\n",
       "    </tr>\n",
       "    <tr>\n",
       "      <th>350</th>\n",
       "      <td>Quad Core</td>\n",
       "      <td>1.3 GHz Processor</td>\n",
       "      <td>NaN</td>\n",
       "    </tr>\n",
       "  </tbody>\n",
       "</table>\n",
       "</div>"
      ],
      "text/plain": [
       "          processor_name           num_cores processor_speed\n",
       "227  Octa Core Processor                 NaN             NaN\n",
       "246  Octa Core Processor                 NaN             NaN\n",
       "282  Octa Core Processor                 NaN             NaN\n",
       "306  Octa Core Processor                 NaN             NaN\n",
       "350            Quad Core   1.3 GHz Processor             NaN"
      ]
     },
     "execution_count": 18,
     "metadata": {},
     "output_type": "execute_result"
    }
   ],
   "source": [
    "df1[df1['processor_name'].str.contains('Core')][['processor_name','num_cores','processor_speed']].head()"
   ]
  },
  {
   "cell_type": "markdown",
   "id": "4aa5dbe9-5070-40e9-993a-d98f400548cc",
   "metadata": {},
   "source": [
    "**we can observed that due to non availability of processor name for some phones shifting has happened when we split lets correct it**"
   ]
  },
  {
   "cell_type": "code",
   "execution_count": 20,
   "id": "54314d0e-0037-460c-938e-ebb02ec2893e",
   "metadata": {},
   "outputs": [
    {
     "data": {
      "text/html": [
       "<div>\n",
       "<style scoped>\n",
       "    .dataframe tbody tr th:only-of-type {\n",
       "        vertical-align: middle;\n",
       "    }\n",
       "\n",
       "    .dataframe tbody tr th {\n",
       "        vertical-align: top;\n",
       "    }\n",
       "\n",
       "    .dataframe thead th {\n",
       "        text-align: right;\n",
       "    }\n",
       "</style>\n",
       "<table border=\"1\" class=\"dataframe\">\n",
       "  <thead>\n",
       "    <tr style=\"text-align: right;\">\n",
       "      <th></th>\n",
       "      <th>processor_name</th>\n",
       "      <th>num_cores</th>\n",
       "      <th>processor_speed</th>\n",
       "    </tr>\n",
       "  </thead>\n",
       "  <tbody>\n",
       "    <tr>\n",
       "      <th>227</th>\n",
       "      <td>None</td>\n",
       "      <td>Octa Core Processor</td>\n",
       "      <td>NaN</td>\n",
       "    </tr>\n",
       "    <tr>\n",
       "      <th>246</th>\n",
       "      <td>None</td>\n",
       "      <td>Octa Core Processor</td>\n",
       "      <td>NaN</td>\n",
       "    </tr>\n",
       "    <tr>\n",
       "      <th>282</th>\n",
       "      <td>None</td>\n",
       "      <td>Octa Core Processor</td>\n",
       "      <td>NaN</td>\n",
       "    </tr>\n",
       "    <tr>\n",
       "      <th>306</th>\n",
       "      <td>None</td>\n",
       "      <td>Octa Core Processor</td>\n",
       "      <td>NaN</td>\n",
       "    </tr>\n",
       "    <tr>\n",
       "      <th>350</th>\n",
       "      <td>None</td>\n",
       "      <td>Quad Core</td>\n",
       "      <td>1.3 GHz Processor</td>\n",
       "    </tr>\n",
       "    <tr>\n",
       "      <th>416</th>\n",
       "      <td>None</td>\n",
       "      <td>Quad Core</td>\n",
       "      <td>1.4 GHz Processor</td>\n",
       "    </tr>\n",
       "    <tr>\n",
       "      <th>421</th>\n",
       "      <td>None</td>\n",
       "      <td>Octa Core</td>\n",
       "      <td>1.6 GHz Processor</td>\n",
       "    </tr>\n",
       "    <tr>\n",
       "      <th>471</th>\n",
       "      <td>None</td>\n",
       "      <td>Octa Core Processor</td>\n",
       "      <td>NaN</td>\n",
       "    </tr>\n",
       "    <tr>\n",
       "      <th>483</th>\n",
       "      <td>None</td>\n",
       "      <td>Octa Core Processor</td>\n",
       "      <td>NaN</td>\n",
       "    </tr>\n",
       "    <tr>\n",
       "      <th>530</th>\n",
       "      <td>None</td>\n",
       "      <td>Quad Core</td>\n",
       "      <td>1.6 GHz Processor</td>\n",
       "    </tr>\n",
       "    <tr>\n",
       "      <th>550</th>\n",
       "      <td>None</td>\n",
       "      <td>Quad Core</td>\n",
       "      <td>1.3 GHz Processor</td>\n",
       "    </tr>\n",
       "    <tr>\n",
       "      <th>560</th>\n",
       "      <td>None</td>\n",
       "      <td>Octa Core Processor</td>\n",
       "      <td>NaN</td>\n",
       "    </tr>\n",
       "    <tr>\n",
       "      <th>564</th>\n",
       "      <td>None</td>\n",
       "      <td>Octa Core Processor</td>\n",
       "      <td>NaN</td>\n",
       "    </tr>\n",
       "    <tr>\n",
       "      <th>572</th>\n",
       "      <td>None</td>\n",
       "      <td>Octa Core Processor</td>\n",
       "      <td>NaN</td>\n",
       "    </tr>\n",
       "    <tr>\n",
       "      <th>599</th>\n",
       "      <td>None</td>\n",
       "      <td>Octa Core Processor</td>\n",
       "      <td>NaN</td>\n",
       "    </tr>\n",
       "    <tr>\n",
       "      <th>636</th>\n",
       "      <td>None</td>\n",
       "      <td>Quad Core</td>\n",
       "      <td>1.6 GHz Processor</td>\n",
       "    </tr>\n",
       "    <tr>\n",
       "      <th>690</th>\n",
       "      <td>None</td>\n",
       "      <td>Octa Core</td>\n",
       "      <td>2 GHz Processor</td>\n",
       "    </tr>\n",
       "    <tr>\n",
       "      <th>731</th>\n",
       "      <td>None</td>\n",
       "      <td>Octa Core</td>\n",
       "      <td>1.6 GHz Processor</td>\n",
       "    </tr>\n",
       "    <tr>\n",
       "      <th>742</th>\n",
       "      <td>None</td>\n",
       "      <td>Octa Core Processor</td>\n",
       "      <td>NaN</td>\n",
       "    </tr>\n",
       "    <tr>\n",
       "      <th>743</th>\n",
       "      <td>None</td>\n",
       "      <td>Octa Core Processor</td>\n",
       "      <td>NaN</td>\n",
       "    </tr>\n",
       "    <tr>\n",
       "      <th>838</th>\n",
       "      <td>None</td>\n",
       "      <td>Octa Core Processor</td>\n",
       "      <td>NaN</td>\n",
       "    </tr>\n",
       "    <tr>\n",
       "      <th>841</th>\n",
       "      <td>None</td>\n",
       "      <td>Quad Core</td>\n",
       "      <td>1.3 GHz Processor</td>\n",
       "    </tr>\n",
       "    <tr>\n",
       "      <th>865</th>\n",
       "      <td>None</td>\n",
       "      <td>Octa Core Processor</td>\n",
       "      <td>NaN</td>\n",
       "    </tr>\n",
       "    <tr>\n",
       "      <th>1098</th>\n",
       "      <td>None</td>\n",
       "      <td>Octa Core Processor</td>\n",
       "      <td>NaN</td>\n",
       "    </tr>\n",
       "    <tr>\n",
       "      <th>1123</th>\n",
       "      <td>None</td>\n",
       "      <td>Quad Core</td>\n",
       "      <td>1.4 GHz Processor</td>\n",
       "    </tr>\n",
       "    <tr>\n",
       "      <th>1168</th>\n",
       "      <td>None</td>\n",
       "      <td>Quad Core</td>\n",
       "      <td>1.6 GHz Processor</td>\n",
       "    </tr>\n",
       "    <tr>\n",
       "      <th>1181</th>\n",
       "      <td>None</td>\n",
       "      <td>Octa Core</td>\n",
       "      <td>2 GHz Processor</td>\n",
       "    </tr>\n",
       "    <tr>\n",
       "      <th>1289</th>\n",
       "      <td>None</td>\n",
       "      <td>Octa Core</td>\n",
       "      <td>2 GHz Processor</td>\n",
       "    </tr>\n",
       "    <tr>\n",
       "      <th>1295</th>\n",
       "      <td>None</td>\n",
       "      <td>Quad Core</td>\n",
       "      <td>1.3 GHz Processor</td>\n",
       "    </tr>\n",
       "    <tr>\n",
       "      <th>1473</th>\n",
       "      <td>None</td>\n",
       "      <td>Octa Core Processor</td>\n",
       "      <td>NaN</td>\n",
       "    </tr>\n",
       "    <tr>\n",
       "      <th>1506</th>\n",
       "      <td>None</td>\n",
       "      <td>Octa Core Processor</td>\n",
       "      <td>NaN</td>\n",
       "    </tr>\n",
       "    <tr>\n",
       "      <th>1558</th>\n",
       "      <td>None</td>\n",
       "      <td>Octa Core</td>\n",
       "      <td>2 GHz Processor</td>\n",
       "    </tr>\n",
       "    <tr>\n",
       "      <th>1716</th>\n",
       "      <td>None</td>\n",
       "      <td>Quad Core</td>\n",
       "      <td>1.6 GHz Processor</td>\n",
       "    </tr>\n",
       "    <tr>\n",
       "      <th>1736</th>\n",
       "      <td>None</td>\n",
       "      <td>Octa Core</td>\n",
       "      <td>2.2 GHz Processor</td>\n",
       "    </tr>\n",
       "    <tr>\n",
       "      <th>1752</th>\n",
       "      <td>None</td>\n",
       "      <td>Quad Core</td>\n",
       "      <td>1.3 GHz Processor</td>\n",
       "    </tr>\n",
       "    <tr>\n",
       "      <th>1782</th>\n",
       "      <td>None</td>\n",
       "      <td>Octa Core Processor</td>\n",
       "      <td>NaN</td>\n",
       "    </tr>\n",
       "    <tr>\n",
       "      <th>1783</th>\n",
       "      <td>None</td>\n",
       "      <td>Octa Core Processor</td>\n",
       "      <td>NaN</td>\n",
       "    </tr>\n",
       "    <tr>\n",
       "      <th>1827</th>\n",
       "      <td>None</td>\n",
       "      <td>Octa Core Processor</td>\n",
       "      <td>NaN</td>\n",
       "    </tr>\n",
       "    <tr>\n",
       "      <th>1893</th>\n",
       "      <td>None</td>\n",
       "      <td>Octa Core Processor</td>\n",
       "      <td>NaN</td>\n",
       "    </tr>\n",
       "    <tr>\n",
       "      <th>1894</th>\n",
       "      <td>None</td>\n",
       "      <td>Octa Core Processor</td>\n",
       "      <td>NaN</td>\n",
       "    </tr>\n",
       "    <tr>\n",
       "      <th>1935</th>\n",
       "      <td>None</td>\n",
       "      <td>Octa Core</td>\n",
       "      <td>1.8 GHz Processor</td>\n",
       "    </tr>\n",
       "    <tr>\n",
       "      <th>1948</th>\n",
       "      <td>None</td>\n",
       "      <td>Quad Core</td>\n",
       "      <td>1.3 GHz Processor</td>\n",
       "    </tr>\n",
       "    <tr>\n",
       "      <th>1962</th>\n",
       "      <td>None</td>\n",
       "      <td>Octa Core Processor</td>\n",
       "      <td>NaN</td>\n",
       "    </tr>\n",
       "  </tbody>\n",
       "</table>\n",
       "</div>"
      ],
      "text/plain": [
       "     processor_name            num_cores     processor_speed\n",
       "227            None  Octa Core Processor                 NaN\n",
       "246            None  Octa Core Processor                 NaN\n",
       "282            None  Octa Core Processor                 NaN\n",
       "306            None  Octa Core Processor                 NaN\n",
       "350            None            Quad Core   1.3 GHz Processor\n",
       "416            None            Quad Core   1.4 GHz Processor\n",
       "421            None            Octa Core   1.6 GHz Processor\n",
       "471            None  Octa Core Processor                 NaN\n",
       "483            None  Octa Core Processor                 NaN\n",
       "530            None            Quad Core   1.6 GHz Processor\n",
       "550            None            Quad Core   1.3 GHz Processor\n",
       "560            None  Octa Core Processor                 NaN\n",
       "564            None  Octa Core Processor                 NaN\n",
       "572            None  Octa Core Processor                 NaN\n",
       "599            None  Octa Core Processor                 NaN\n",
       "636            None            Quad Core   1.6 GHz Processor\n",
       "690            None            Octa Core     2 GHz Processor\n",
       "731            None            Octa Core   1.6 GHz Processor\n",
       "742            None  Octa Core Processor                 NaN\n",
       "743            None  Octa Core Processor                 NaN\n",
       "838            None  Octa Core Processor                 NaN\n",
       "841            None            Quad Core   1.3 GHz Processor\n",
       "865            None  Octa Core Processor                 NaN\n",
       "1098           None  Octa Core Processor                 NaN\n",
       "1123           None            Quad Core   1.4 GHz Processor\n",
       "1168           None            Quad Core   1.6 GHz Processor\n",
       "1181           None            Octa Core     2 GHz Processor\n",
       "1289           None            Octa Core     2 GHz Processor\n",
       "1295           None            Quad Core   1.3 GHz Processor\n",
       "1473           None  Octa Core Processor                 NaN\n",
       "1506           None  Octa Core Processor                 NaN\n",
       "1558           None            Octa Core     2 GHz Processor\n",
       "1716           None            Quad Core   1.6 GHz Processor\n",
       "1736           None            Octa Core   2.2 GHz Processor\n",
       "1752           None            Quad Core   1.3 GHz Processor\n",
       "1782           None  Octa Core Processor                 NaN\n",
       "1783           None  Octa Core Processor                 NaN\n",
       "1827           None  Octa Core Processor                 NaN\n",
       "1893           None  Octa Core Processor                 NaN\n",
       "1894           None  Octa Core Processor                 NaN\n",
       "1935           None            Octa Core   1.8 GHz Processor\n",
       "1948           None            Quad Core   1.3 GHz Processor\n",
       "1962           None  Octa Core Processor                 NaN"
      ]
     },
     "execution_count": 20,
     "metadata": {},
     "output_type": "execute_result"
    }
   ],
   "source": [
    "temp=df1[df1['processor_name'].str.contains('Core')][['processor_name','num_cores','processor_speed']].shift(1,axis=1)\n",
    "temp"
   ]
  },
  {
   "cell_type": "code",
   "execution_count": 21,
   "id": "84893484-dc1e-4ade-a061-b0d89b43af19",
   "metadata": {},
   "outputs": [],
   "source": [
    "df1.loc[temp.index,['processor_name','num_cores','processor_speed']]=temp.values"
   ]
  },
  {
   "cell_type": "code",
   "execution_count": 22,
   "id": "67356ae0-3c88-4b6f-be81-42584e3d1a4f",
   "metadata": {},
   "outputs": [
    {
     "data": {
      "text/plain": [
       "processor_name\n",
       "Snapdragon 695        66\n",
       "Snapdragon 8 Gen2     65\n",
       "Snapdragon 8+ Gen1    55\n",
       "Snapdragon 680        46\n",
       "Dimensity 700 5G      46\n",
       "Name: count, dtype: int64"
      ]
     },
     "execution_count": 22,
     "metadata": {},
     "output_type": "execute_result"
    }
   ],
   "source": [
    "df1['processor_name'].value_counts().head()"
   ]
  },
  {
   "cell_type": "code",
   "execution_count": 23,
   "id": "ba6deddb-c89f-4f3f-8fa7-1af5a074d36c",
   "metadata": {},
   "outputs": [],
   "source": [
    "df1.loc[1810,'processor_name']='MediaTek MT6739'"
   ]
  },
  {
   "cell_type": "code",
   "execution_count": 24,
   "id": "7db9d4ae-e58d-4ee2-8c37-80764fb472e2",
   "metadata": {},
   "outputs": [],
   "source": [
    "processor_brand=df1['processor_name'].str.split(' ').str.get(0).values"
   ]
  },
  {
   "cell_type": "code",
   "execution_count": 25,
   "id": "33bd157d-229f-4dd8-9418-fc27b94f5fdb",
   "metadata": {},
   "outputs": [],
   "source": [
    "df1.insert(9,'processor_brand',processor_brand)"
   ]
  },
  {
   "cell_type": "code",
   "execution_count": 26,
   "id": "5d4eadce-cc0b-43e4-ab2c-816679ea9e97",
   "metadata": {},
   "outputs": [],
   "source": [
    "df1['num_cores'] =df1['num_cores'].str.replace('Processor','').str.strip()"
   ]
  },
  {
   "cell_type": "code",
   "execution_count": 27,
   "id": "5a2ce2d6-8712-42f7-b014-a8e318ea9047",
   "metadata": {},
   "outputs": [],
   "source": [
    "#we will make two new columns with named ram and rom\n",
    "df1['num_cores']=df1['num_cores'].str.replace('Nine Cores','Nine Core')\n",
    "df1['num_cores']=df1['num_cores'].str.replace('Nine-Cores','Nine Core')"
   ]
  },
  {
   "cell_type": "code",
   "execution_count": 28,
   "id": "735dca95-f0de-4fb6-93ab-baec681a03f5",
   "metadata": {},
   "outputs": [],
   "source": [
    "df1['processor_speed']=df1['processor_speed'].str.strip().str.replace('GHz','').str.replace('Processor','').str.strip().astype('float')"
   ]
  },
  {
   "cell_type": "code",
   "execution_count": 29,
   "id": "6bbe5982-c889-471f-8db8-9a53e4ded342",
   "metadata": {},
   "outputs": [
    {
     "data": {
      "text/plain": [
       "storage\n",
       "8 GB RAM, 128 GB inbuilt     525\n",
       "6 GB RAM, 128 GB inbuilt     330\n",
       "12 GB RAM, 256 GB inbuilt    236\n",
       "4 GB RAM, 64 GB inbuilt      232\n",
       "8 GB RAM, 256 GB inbuilt     204\n",
       "4 GB RAM, 128 GB inbuilt     124\n",
       "3 GB RAM, 32 GB inbuilt       46\n",
       "6 GB RAM, 64 GB inbuilt       41\n",
       "12 GB RAM, 512 GB inbuilt     33\n",
       "2 GB RAM, 32 GB inbuilt       30\n",
       "16 GB RAM, 256 GB inbuilt     26\n",
       "3 GB RAM, 64 GB inbuilt       22\n",
       "6 GB RAM, 256 GB inbuilt      12\n",
       "12 GB RAM, 128 GB inbuilt     10\n",
       "1 GB RAM, 16 GB inbuilt       10\n",
       "16 GB RAM, 512 GB inbuilt     10\n",
       "2 GB RAM, 64 GB inbuilt        9\n",
       "4 GB RAM, 32 GB inbuilt        9\n",
       "6 GB RAM, 512 GB inbuilt       6\n",
       "2 GB RAM, 16 GB inbuilt        5\n",
       "6 GB RAM, 1 TB inbuilt         5\n",
       "8 GB RAM, 512 GB inbuilt       5\n",
       "4 GB RAM, 256 GB inbuilt       5\n",
       "18 GB RAM, 512 GB inbuilt      4\n",
       "512 MB RAM, 4 GB inbuilt       4\n",
       "64 GB inbuilt                  3\n",
       "12 GB RAM, 1 TB inbuilt        3\n",
       "4 GB RAM, 512 MB inbuilt       2\n",
       "8 GB RAM, 1 TB inbuilt         2\n",
       "24 GB RAM, 1 TB inbuilt        2\n",
       "4 GB RAM, 512 GB inbuilt       2\n",
       "3 GB RAM, 16 GB inbuilt        2\n",
       "256 GB inbuilt                 1\n",
       "18 GB RAM, 256 GB inbuilt      1\n",
       "512 GB inbuilt                 1\n",
       "1 GB RAM, 8 GB inbuilt         1\n",
       "Name: count, dtype: int64"
      ]
     },
     "execution_count": 29,
     "metadata": {},
     "output_type": "execute_result"
    }
   ],
   "source": [
    "#lets check for storage column\n",
    "df1['storage'].value_counts()"
   ]
  },
  {
   "cell_type": "code",
   "execution_count": 30,
   "id": "3a0e6ce2-f622-4fea-bd5b-bc6aa8642040",
   "metadata": {},
   "outputs": [],
   "source": [
    "#we will make 2 new cols from storage\n",
    "ram= df1['storage'].str.strip().str.split(',').str.get(0).str.replace('GB','').str.replace('RAM','').str.strip().values"
   ]
  },
  {
   "cell_type": "code",
   "execution_count": 31,
   "id": "85a0bfb5-ad4b-4640-93e4-f1b9a69daad9",
   "metadata": {},
   "outputs": [],
   "source": [
    "df1.insert(13,'ram',ram)"
   ]
  },
  {
   "cell_type": "code",
   "execution_count": 32,
   "id": "7fe3969b-2b32-4f94-b407-456b54c9e2f9",
   "metadata": {},
   "outputs": [],
   "source": [
    "memory=df1['storage'].str.strip().str.split(',').str.get(1).str.replace('GB','').str.replace('inbuilt','').str.strip().values"
   ]
  },
  {
   "cell_type": "code",
   "execution_count": 33,
   "id": "bb744537-561e-4813-bb67-308ede4f950f",
   "metadata": {},
   "outputs": [],
   "source": [
    "df1.insert(14,'memory',memory)"
   ]
  },
  {
   "cell_type": "code",
   "execution_count": 34,
   "id": "7ddc0130-a933-48f3-b9e2-7f8a64dc5592",
   "metadata": {},
   "outputs": [],
   "source": [
    "df1['ram']=df1['ram'].str.replace('\\u2009',' ').str.strip().str.replace('MB','').str.replace('inbuilt','').astype('float')"
   ]
  },
  {
   "cell_type": "code",
   "execution_count": 35,
   "id": "400e1444-fb45-4eb0-9f67-e554d696f4a5",
   "metadata": {},
   "outputs": [],
   "source": [
    "df1['memory']=df1['memory'].str.replace('TB','').str.replace('MB','').str.strip().astype('float')"
   ]
  },
  {
   "cell_type": "code",
   "execution_count": 36,
   "id": "69435229-46d6-4595-9a84-ec829c5d7a35",
   "metadata": {},
   "outputs": [
    {
     "data": {
      "text/plain": [
       "ram\n",
       "8.0      736\n",
       "6.0      394\n",
       "4.0      374\n",
       "12.0     282\n",
       "3.0       70\n",
       "2.0       44\n",
       "16.0      36\n",
       "1.0       11\n",
       "18.0       5\n",
       "512.0      5\n",
       "64.0       3\n",
       "24.0       2\n",
       "256.0      1\n",
       "Name: count, dtype: int64"
      ]
     },
     "execution_count": 36,
     "metadata": {},
     "output_type": "execute_result"
    }
   ],
   "source": [
    "df1['ram'].value_counts()"
   ]
  },
  {
   "cell_type": "code",
   "execution_count": 37,
   "id": "5b60551e-a968-408c-b278-e5a02e6b5d4e",
   "metadata": {},
   "outputs": [],
   "source": [
    "# Change rows 0 and 1, giving each row its own new values\n",
    "df1.loc[[217, 322,835,1417,1460,1720,1810], ['ram', 'memory']] = [\n",
    "    [12, 512],\n",
    "    [8, 64],[16,512],[4,64],[12,512],[8,512],[2,16]\n",
    "]\n"
   ]
  },
  {
   "cell_type": "code",
   "execution_count": 38,
   "id": "5bc301e4-8e9d-4526-b733-b6966b8cf0e5",
   "metadata": {},
   "outputs": [],
   "source": [
    "df1 = df1.drop([510,1251,480,1463])"
   ]
  },
  {
   "cell_type": "code",
   "execution_count": 39,
   "id": "daecb7fa-9038-40a8-9e0e-57748dc8f28e",
   "metadata": {},
   "outputs": [
    {
     "data": {
      "text/plain": [
       "ram\n",
       "8.0     738\n",
       "6.0     394\n",
       "4.0     375\n",
       "12.0    284\n",
       "3.0      70\n",
       "2.0      45\n",
       "16.0     37\n",
       "1.0      10\n",
       "18.0      5\n",
       "24.0      1\n",
       "Name: count, dtype: int64"
      ]
     },
     "execution_count": 39,
     "metadata": {},
     "output_type": "execute_result"
    }
   ],
   "source": [
    "df1['ram'].value_counts()"
   ]
  },
  {
   "cell_type": "code",
   "execution_count": 40,
   "id": "098c7df7-b86b-4a5b-88f6-4e284914d417",
   "metadata": {},
   "outputs": [],
   "source": [
    "#we convert TB into GB\n",
    "temp=df1[df1['memory']==1]\n",
    "df1.loc[temp.index,'memory']=1024"
   ]
  },
  {
   "cell_type": "code",
   "execution_count": 41,
   "id": "9dcd9279-0519-4b12-aea8-96461c471b56",
   "metadata": {},
   "outputs": [
    {
     "data": {
      "text/plain": [
       "memory\n",
       "128.0     989\n",
       "256.0     484\n",
       "64.0      306\n",
       "32.0       85\n",
       "512.0      66\n",
       "16.0       17\n",
       "1024.0     11\n",
       "8.0         1\n",
       "Name: count, dtype: int64"
      ]
     },
     "execution_count": 41,
     "metadata": {},
     "output_type": "execute_result"
    }
   ],
   "source": [
    "df1['memory'].value_counts()"
   ]
  },
  {
   "cell_type": "markdown",
   "id": "dfd8dafa-5206-4f36-8d5a-5979b11deef8",
   "metadata": {},
   "source": [
    "**we will make battery_capacity,fast_charging_capacity,fast_charging from column battery**"
   ]
  },
  {
   "cell_type": "code",
   "execution_count": 43,
   "id": "022e6ef0-050f-45a0-9cc4-90509f8b9f95",
   "metadata": {},
   "outputs": [],
   "source": [
    "df1['battery_capacity']=df1['battery'].str.replace('\\u2009',' ').str.split(' ').str.get(0).astype('float')"
   ]
  },
  {
   "cell_type": "code",
   "execution_count": 44,
   "id": "d1e59ebc-e20a-4c30-ac14-7526d2439c59",
   "metadata": {},
   "outputs": [],
   "source": [
    "df1['fast_charging_capacity']=df1['battery'].str.replace('\\u2009',' ').str.split(' ').str.get(4).str.replace('W','')"
   ]
  },
  {
   "cell_type": "code",
   "execution_count": 45,
   "id": "e0505d70-93fc-458a-9e42-9216475268d5",
   "metadata": {},
   "outputs": [],
   "source": [
    "temp=df1[df1['fast_charging_capacity']=='Fast']\n",
    "df1.loc[temp.index,'fast_charging_capacity']=np.nan"
   ]
  },
  {
   "cell_type": "code",
   "execution_count": 46,
   "id": "36803189-902d-4c58-98a1-e363cc517dd2",
   "metadata": {},
   "outputs": [],
   "source": [
    "df1['fast_charging_capacity']=df1['fast_charging_capacity'].fillna(np.nan)\n"
   ]
  },
  {
   "cell_type": "code",
   "execution_count": 47,
   "id": "262cb09a-6e0a-48e9-9dcb-f5bedca3ccff",
   "metadata": {},
   "outputs": [],
   "source": [
    "df1['Fast_charging']=df1['battery'].str.contains('Fast',case=False,na=False)"
   ]
  },
  {
   "cell_type": "markdown",
   "id": "2c664785-0472-4e6a-94c6-e7ee268ffc63",
   "metadata": {},
   "source": [
    "**We will make new columns screen_size ,refresh_rate ,resolution height,resoultionwidth from dispaly '**"
   ]
  },
  {
   "cell_type": "code",
   "execution_count": 49,
   "id": "4f4c5eff-f644-40d4-a00b-b9e4d03b70e7",
   "metadata": {},
   "outputs": [],
   "source": [
    "df1['screen_size']=df1['display'].str.split(',').str.get(0).str.replace('inches','').str.strip().astype('float')"
   ]
  },
  {
   "cell_type": "code",
   "execution_count": 50,
   "id": "c9a56114-a30f-417d-97d5-2a5a20bace7e",
   "metadata": {},
   "outputs": [],
   "source": [
    "df1['resolution_width']=df1['display'].str.split(',').str.get(1).str.strip().str.split(' ').str.get(0).str.split('x').str.get(0)"
   ]
  },
  {
   "cell_type": "code",
   "execution_count": 51,
   "id": "f52d1b45-97fc-4649-9655-43425008bdd6",
   "metadata": {},
   "outputs": [],
   "source": [
    "df1['resolution_height']=df1['display'].str.split(',').str.get(1).str.strip().str.split(' ').str.get(0).str.split('x').str.get(1).str.replace('p','').str.strip()"
   ]
  },
  {
   "cell_type": "code",
   "execution_count": 52,
   "id": "fe208930-5a3c-439c-89c8-f2a51a5f6b26",
   "metadata": {},
   "outputs": [],
   "source": [
    "df1['refresh_rate']=df1['display'].str.split(',').str.get(2).str.split('Hz').str.get(0).str.strip()"
   ]
  },
  {
   "cell_type": "markdown",
   "id": "0b2ba2b8-4c85-409e-9ea6-ce05d0e010c9",
   "metadata": {},
   "source": [
    "**We will seperate Punch hole phone from drop notch this info is also available in display column**"
   ]
  },
  {
   "cell_type": "code",
   "execution_count": 54,
   "id": "0214ef26-bd2f-4d68-b860-8e8251c3b253",
   "metadata": {},
   "outputs": [],
   "source": [
    "df1['Punch_Hole']=df1['display'].str.split(',').str.get(2).str.split('with').str.get(1).str.contains('Punch',case=False,na=False)"
   ]
  },
  {
   "cell_type": "code",
   "execution_count": 55,
   "id": "417e77af-5576-405b-a417-ab9915e07db0",
   "metadata": {},
   "outputs": [],
   "source": [
    "df1['Notch']=df1['display'].str.split(',').str.get(2).str.split('with').str.get(1).str.contains('Notch',case=False,na=False)"
   ]
  },
  {
   "cell_type": "code",
   "execution_count": 56,
   "id": "247d5e24-53f2-45f6-b219-3444b39d2659",
   "metadata": {},
   "outputs": [],
   "source": [
    "df1.loc[216,['resolution_width','resolution_height','refresh_rate']]=[2400,1080,60]"
   ]
  },
  {
   "cell_type": "code",
   "execution_count": 57,
   "id": "cdee6b57-65b5-400a-b6c1-a8f2e0c8af2c",
   "metadata": {},
   "outputs": [],
   "source": [
    "df1['resolution_width']=df1['resolution_width'].astype('float')"
   ]
  },
  {
   "cell_type": "code",
   "execution_count": 58,
   "id": "22af4809-aec3-4aec-8c06-b10faa2e88e3",
   "metadata": {},
   "outputs": [],
   "source": [
    "df1['resolution_height']=df1['resolution_height'].astype('float')"
   ]
  },
  {
   "cell_type": "markdown",
   "id": "37955645-a975-4cfd-87a8-d3399a4d2fb9",
   "metadata": {},
   "source": [
    "**We will make 4 cols from camera named with primary camera that will have info primary rear camera,num_rear_camera ,front camera will have info main selfie camera and one more column with name num_front_camera**"
   ]
  },
  {
   "cell_type": "code",
   "execution_count": 60,
   "id": "3e0ce629-6c8d-4c2f-a966-1c9dbd1e4576",
   "metadata": {},
   "outputs": [],
   "source": [
    "df1['primary_camera']=df1['camera'].str.split('MP').str.get(0).str.strip().astype('float')"
   ]
  },
  {
   "cell_type": "code",
   "execution_count": 61,
   "id": "59084339-569d-44f0-b96c-66e942179ada",
   "metadata": {},
   "outputs": [],
   "source": [
    "df1['front_camera']=df1['camera'].str.split('&').str.get(1).str.split('+').str.get(0).str.split('MP').str.get(0)"
   ]
  },
  {
   "cell_type": "code",
   "execution_count": 62,
   "id": "0f61e085-436a-4f28-b1c3-872571249bc7",
   "metadata": {},
   "outputs": [
    {
     "data": {
      "text/plain": [
       "camera\n",
       "50 MP + 8 MP + 2 MP Triple Rear & 16 MP Front Camera    92\n",
       "50 MP + 2 MP Dual Rear & 8 MP Front Camera              72\n",
       "64 MP + 8 MP + 2 MP Triple Rear & 16 MP Front Camera    70\n",
       "50 MP + 2 MP + 2 MP Triple Rear & 16 MP Front Camera    46\n",
       "13 MP + 2 MP Dual Rear & 5 MP Front Camera              38\n",
       "Name: count, dtype: int64"
      ]
     },
     "execution_count": 62,
     "metadata": {},
     "output_type": "execute_result"
    }
   ],
   "source": [
    "df1['camera'].value_counts().head()"
   ]
  },
  {
   "cell_type": "code",
   "execution_count": 63,
   "id": "cec53f99-ca2b-4491-9d73-0d72f0e085b8",
   "metadata": {},
   "outputs": [
    {
     "data": {
      "text/plain": [
       "Index([343, 558, 624, 1135, 1440, 1937, 1955], dtype='int64')"
      ]
     },
     "execution_count": 63,
     "metadata": {},
     "output_type": "execute_result"
    }
   ],
   "source": [
    "df1[df1['camera'].str.split('&').str.get(1).str.strip().str.split('+').isnull()]['camera'].index"
   ]
  },
  {
   "cell_type": "code",
   "execution_count": 64,
   "id": "6df81af1-bcfc-4a48-9596-e32db5639803",
   "metadata": {},
   "outputs": [],
   "source": [
    "def camera_count(text):\n",
    "    if 'Quad' in text:\n",
    "        return 4\n",
    "    elif 'Triple'in text:\n",
    "        return 3\n",
    "    elif 'Dual' in text :\n",
    "        return 2\n",
    "    else:\n",
    "        return 1\n",
    "        "
   ]
  },
  {
   "cell_type": "code",
   "execution_count": 65,
   "id": "4fc6c04d-8f74-41bb-9f63-eded5913f019",
   "metadata": {},
   "outputs": [],
   "source": [
    "df1['num_rear_camera']=df1['camera'].str.strip().str.split('&').str.get(0).apply(camera_count)"
   ]
  },
  {
   "cell_type": "code",
   "execution_count": 66,
   "id": "e1293684-9dd6-4cfd-8f01-f47cd14baa30",
   "metadata": {},
   "outputs": [],
   "source": [
    "def front_camera_count(text):\n",
    "   if 'Dual' in text :\n",
    "        return 2\n",
    "   else:\n",
    "       return 1\n",
    "        "
   ]
  },
  {
   "cell_type": "code",
   "execution_count": 67,
   "id": "30aa6a0e-6281-4054-a041-b31cbedabe89",
   "metadata": {},
   "outputs": [],
   "source": [
    "df1=df1.drop([343,1135,624,1440,1937])"
   ]
  },
  {
   "cell_type": "code",
   "execution_count": 68,
   "id": "40d630c6-aee4-4d07-8cde-a737ec8a5fa2",
   "metadata": {},
   "outputs": [],
   "source": [
    "x=df1['camera'].str.strip().str.split('&').str.get(1)\n",
    "x.loc[[558,1955]]=['8 MP Camera','0.8 Camera']"
   ]
  },
  {
   "cell_type": "code",
   "execution_count": 69,
   "id": "97fa5ec0-94ae-4463-aa2c-6156d17c67a8",
   "metadata": {},
   "outputs": [],
   "source": [
    "df1['num_front_camera']=x.apply(front_camera_count)"
   ]
  },
  {
   "cell_type": "code",
   "execution_count": 70,
   "id": "f5a12d59-ad21-475d-9a29-80788f04e958",
   "metadata": {},
   "outputs": [],
   "source": [
    "df1['Extra_storage_supported']=~df1['extra_storage'].str.contains('Not Supported')"
   ]
  },
  {
   "cell_type": "code",
   "execution_count": 71,
   "id": "097bc90a-05a5-42b7-a964-c2cbf7ef968e",
   "metadata": {},
   "outputs": [
    {
     "data": {
      "text/plain": [
       "6      Memory Card (Hybrid), upto 1 TB\n",
       "7     Memory Card Supported, upto 1 TB\n",
       "11     Memory Card (Hybrid), upto 1 TB\n",
       "12     Memory Card (Hybrid), upto 1 TB\n",
       "13    Memory Card Supported, upto 1 TB\n",
       "Name: extra_storage, dtype: object"
      ]
     },
     "execution_count": 71,
     "metadata": {},
     "output_type": "execute_result"
    }
   ],
   "source": [
    "df1[~df1['extra_storage'].str.contains('Not Supported')]['extra_storage'].head()"
   ]
  },
  {
   "cell_type": "code",
   "execution_count": 72,
   "id": "fb4f2e83-f97e-4d1b-821d-66dbd1060fba",
   "metadata": {},
   "outputs": [],
   "source": [
    "df1['Extra_storage(GB)']=df1[~df1['extra_storage'].str.contains('Not Supported')]['extra_storage'].str.replace('\\u2009', '', regex=False) .str.extract(r'(\\d+)').astype(float)"
   ]
  },
  {
   "cell_type": "code",
   "execution_count": 73,
   "id": "f648f371-0389-40a4-b16e-156ce0db136d",
   "metadata": {},
   "outputs": [],
   "source": [
    "def into_gb(num):\n",
    "    if num == 1 or num == 2:\n",
    "        return num*1024\n",
    "    else:\n",
    "        return num"
   ]
  },
  {
   "cell_type": "code",
   "execution_count": 74,
   "id": "977ad139-5eb0-4906-90a7-bb01aa2b8334",
   "metadata": {},
   "outputs": [],
   "source": [
    "df1['Extra_storage(GB)']=df1['Extra_storage(GB)'].apply(into_gb)"
   ]
  },
  {
   "cell_type": "markdown",
   "id": "5fe119ec-f2d0-48ae-9b49-2c602a120e79",
   "metadata": {},
   "source": [
    "**Here we seperate out two info from extra storage one is of extra storage suppoted or not and second one how much extra memory is in phone**"
   ]
  },
  {
   "cell_type": "code",
   "execution_count": 76,
   "id": "b752ff9a-9b73-48ef-a68e-b4989b5cda0f",
   "metadata": {},
   "outputs": [],
   "source": [
    "df1['os_name']=df1['os'].str.strip().str.split().str.get(0).str.strip()"
   ]
  },
  {
   "cell_type": "code",
   "execution_count": 77,
   "id": "8f267610-4ca6-4d87-9aae-a64f7c6d990d",
   "metadata": {},
   "outputs": [],
   "source": [
    "df1['os_version']=df1['os'].str.strip().str.split().str.get(1).str.split('v').str.get(1).str.extract(r'(\\d+(?:\\.\\d+){0,2})')"
   ]
  },
  {
   "cell_type": "code",
   "execution_count": 78,
   "id": "796248a3-7a1c-4fc0-8175-8fa265820d32",
   "metadata": {},
   "outputs": [
    {
     "data": {
      "text/plain": [
       "Index(['mobile_name', 'brand', 'price', 'rating', 'connectivity', 'processor',\n",
       "       '5g', 'nfc', 'ir_blaster', 'processor_brand', 'processor_name',\n",
       "       'num_cores', 'processor_speed', 'ram', 'memory', 'storage', 'battery',\n",
       "       'display', 'camera', 'extra_storage', 'os', 'battery_capacity',\n",
       "       'fast_charging_capacity', 'Fast_charging', 'screen_size',\n",
       "       'resolution_width', 'resolution_height', 'refresh_rate', 'Punch_Hole',\n",
       "       'Notch', 'primary_camera', 'front_camera', 'num_rear_camera',\n",
       "       'num_front_camera', 'Extra_storage_supported', 'Extra_storage(GB)',\n",
       "       'os_name', 'os_version'],\n",
       "      dtype='object')"
      ]
     },
     "execution_count": 78,
     "metadata": {},
     "output_type": "execute_result"
    }
   ],
   "source": [
    "#now remove unnecassary cols\n",
    "df1.columns"
   ]
  },
  {
   "cell_type": "code",
   "execution_count": 79,
   "id": "ed14d256-1760-45c0-b24d-52a6679cc850",
   "metadata": {},
   "outputs": [],
   "source": [
    "df1.drop(columns=['connectivity','processor','storage','battery','display','camera','extra_storage','os'],inplace=True)"
   ]
  },
  {
   "cell_type": "code",
   "execution_count": 80,
   "id": "ea03088d-94ad-400f-a1ca-f11a5f8c3132",
   "metadata": {},
   "outputs": [
    {
     "name": "stdout",
     "output_type": "stream",
     "text": [
      "<class 'pandas.core.frame.DataFrame'>\n",
      "Index: 1954 entries, 0 to 1962\n",
      "Data columns (total 30 columns):\n",
      " #   Column                   Non-Null Count  Dtype  \n",
      "---  ------                   --------------  -----  \n",
      " 0   mobile_name              1954 non-null   object \n",
      " 1   brand                    1954 non-null   object \n",
      " 2   price                    1954 non-null   int64  \n",
      " 3   rating                   1855 non-null   float64\n",
      " 4   5g                       1954 non-null   bool   \n",
      " 5   nfc                      1954 non-null   bool   \n",
      " 6   ir_blaster               1954 non-null   bool   \n",
      " 7   processor_brand          1911 non-null   object \n",
      " 8   processor_name           1911 non-null   object \n",
      " 9   num_cores                1946 non-null   object \n",
      " 10  processor_speed          1836 non-null   float64\n",
      " 11  ram                      1954 non-null   float64\n",
      " 12  memory                   1954 non-null   float64\n",
      " 13  battery_capacity         1940 non-null   float64\n",
      " 14  fast_charging_capacity   1641 non-null   object \n",
      " 15  Fast_charging            1954 non-null   bool   \n",
      " 16  screen_size              1954 non-null   float64\n",
      " 17  resolution_width         1954 non-null   float64\n",
      " 18  resolution_height        1954 non-null   float64\n",
      " 19  refresh_rate             1396 non-null   object \n",
      " 20  Punch_Hole               1954 non-null   bool   \n",
      " 21  Notch                    1954 non-null   bool   \n",
      " 22  primary_camera           1954 non-null   float64\n",
      " 23  front_camera             1952 non-null   object \n",
      " 24  num_rear_camera          1954 non-null   int64  \n",
      " 25  num_front_camera         1954 non-null   int64  \n",
      " 26  Extra_storage_supported  1954 non-null   bool   \n",
      " 27  Extra_storage(GB)        956 non-null    float64\n",
      " 28  os_name                  1923 non-null   object \n",
      " 29  os_version               1913 non-null   object \n",
      "dtypes: bool(7), float64(10), int64(3), object(10)\n",
      "memory usage: 444.3+ KB\n"
     ]
    }
   ],
   "source": [
    "df1.info()"
   ]
  },
  {
   "cell_type": "markdown",
   "id": "b08a7866-00c8-441e-8e9a-dd3d319f4eba",
   "metadata": {},
   "source": [
    "##### lets check each column whether there is any issue or not"
   ]
  },
  {
   "cell_type": "code",
   "execution_count": 82,
   "id": "78eab121-f2e4-450a-b981-5a5c679ebcea",
   "metadata": {},
   "outputs": [],
   "source": [
    "# which brand has less than 12 phones we will group them as 'other'\n",
    "brands= [\"samsung\", \"xiaomi\", \"vivo\", \"realme\", \"oppo\", \"motorola\", \"oneplus\", \"apple\", \"poco\", \"tecno\",\n",
    "              \"iqoo\", \"infinix\", \"honor\", \"nokia\", \"itel\", \"google\", \"nubia\", \"huawei\", \"asus\", \"lava\",\n",
    "              \"sony\", \"nothing\"]\n",
    "def temp(text):\n",
    "    if text not in brands:\n",
    "        return 'other'\n",
    "    else:\n",
    "        return text"
   ]
  },
  {
   "cell_type": "code",
   "execution_count": 83,
   "id": "b223e73a-960f-4013-9a34-cbf3eb575034",
   "metadata": {},
   "outputs": [],
   "source": [
    "df1['brand']=df1['brand'].apply(temp)"
   ]
  },
  {
   "cell_type": "code",
   "execution_count": 84,
   "id": "68187fce-01be-4132-b65d-6a7ea56d8350",
   "metadata": {},
   "outputs": [],
   "source": [
    "  df1['rating']=df1['rating'].apply(lambda x: x / 20 if x > 5 else x)"
   ]
  },
  {
   "cell_type": "code",
   "execution_count": 85,
   "id": "33a5a51d-2b41-4bd0-90b2-0f014f20c57a",
   "metadata": {},
   "outputs": [
    {
     "data": {
      "text/plain": [
       "processor_brand\n",
       "Snapdragon    812\n",
       "Dimensity     436\n",
       "Helio         336\n",
       "Exynos        100\n",
       "Bionic         71\n",
       "Unisoc         54\n",
       "Tiger          39\n",
       "Google         15\n",
       "A13            10\n",
       "Spreadtrum      9\n",
       "Kirin           9\n",
       "Tensor          6\n",
       "Qualcomm        5\n",
       "Apple           2\n",
       "Samsung         2\n",
       "SC9863A         2\n",
       "Sanpdragon      1\n",
       "Fusion          1\n",
       "MediaTek        1\n",
       "Name: count, dtype: int64"
      ]
     },
     "execution_count": 85,
     "metadata": {},
     "output_type": "execute_result"
    }
   ],
   "source": [
    "df1['processor_brand'].value_counts()"
   ]
  },
  {
   "cell_type": "markdown",
   "id": "617f6b67-de28-49c7-a60a-013b22edcdb4",
   "metadata": {},
   "source": [
    "We will combine similair brand processor into one"
   ]
  },
  {
   "cell_type": "code",
   "execution_count": 87,
   "id": "7d10e8b5-2824-42ea-afcc-769791f865d3",
   "metadata": {},
   "outputs": [],
   "source": [
    "important_processors = [\"Snapdragon\", \"Dimensity\", \"Helio\", \"Exynos\", \"Bionic\", \"Unisoc\"]\n",
    "\n",
    "# Mapping for corrections\n",
    "replace = {\n",
    "    \"Sanpdragon\": \"Snapdragon\",\n",
    "    \"Qualcomm\": \"Snapdragon\",\n",
    "    \"Apple\": \"Bionic\",\n",
    "    \"A13\": \"Bionic\",\n",
    "    \"Samsung\": \"Exynos\",\n",
    "    \"SC9863A\": \"Unisoc\",\n",
    "    \"Spreadtrum\": \"Unisoc\",\n",
    "    \"MediaTek\": \"Helio\"\n",
    "}\n",
    "\n",
    "# Function to classify processor\n",
    "def temp(proc):\n",
    "    proc = replace.get(proc, proc)  \n",
    "    return proc if proc in important_processors else \"Other\"\n",
    "\n",
    "# Apply function\n",
    "df1['processor_brand'] = df1['processor_brand'].apply(temp)"
   ]
  },
  {
   "cell_type": "code",
   "execution_count": 88,
   "id": "aba5baa4-35de-4828-a107-d140147caf5a",
   "metadata": {},
   "outputs": [
    {
     "data": {
      "text/plain": [
       "283"
      ]
     },
     "execution_count": 88,
     "metadata": {},
     "output_type": "execute_result"
    }
   ],
   "source": [
    "df1['processor_name'].nunique()"
   ]
  },
  {
   "cell_type": "code",
   "execution_count": 89,
   "id": "2733126e-453c-42b1-afa6-b3184853a09a",
   "metadata": {},
   "outputs": [
    {
     "data": {
      "text/plain": [
       "processor_name\n",
       "Snapdragon 695        66\n",
       "Snapdragon 8 Gen2     65\n",
       "Snapdragon 8+ Gen1    55\n",
       "Snapdragon 680        46\n",
       "Dimensity 700 5G      46\n",
       "Name: count, dtype: int64"
      ]
     },
     "execution_count": 89,
     "metadata": {},
     "output_type": "execute_result"
    }
   ],
   "source": [
    "df1['processor_name'].value_counts().head()"
   ]
  },
  {
   "cell_type": "markdown",
   "id": "fea6bab3-819d-42e3-bc89-6002b93ecc7f",
   "metadata": {},
   "source": [
    "here we converted the cores into numeric"
   ]
  },
  {
   "cell_type": "code",
   "execution_count": 91,
   "id": "0c961cfa-8409-4347-beb4-3095a43138f1",
   "metadata": {},
   "outputs": [],
   "source": [
    "def change_core(text):\n",
    "    if text =='Deca Core':\n",
    "        return 10\n",
    "    elif text =='Hexa Core':\n",
    "        return 6\n",
    "    elif text=='Quad Core':\n",
    "        return 4\n",
    "    elif text =='Nine Core':\n",
    "        return 9\n",
    "    else:\n",
    "        return 8\n",
    "df1['num_cores']=df1['num_cores'].apply(change_core)"
   ]
  },
  {
   "cell_type": "code",
   "execution_count": 92,
   "id": "f6801156-4bf5-4c2c-91e7-c63c89d2c184",
   "metadata": {},
   "outputs": [
    {
     "data": {
      "text/plain": [
       "processor_speed\n",
       "2.2    319\n",
       "2.4    244\n",
       "2.0    240\n",
       "3.2    200\n",
       "2.3    124\n",
       "Name: count, dtype: int64"
      ]
     },
     "execution_count": 92,
     "metadata": {},
     "output_type": "execute_result"
    }
   ],
   "source": [
    "df1['processor_speed'].value_counts().head()"
   ]
  },
  {
   "cell_type": "code",
   "execution_count": 93,
   "id": "71c64e5a-4ee1-45aa-81f0-26e3017ba214",
   "metadata": {},
   "outputs": [
    {
     "data": {
      "text/plain": [
       "Index(['mobile_name', 'brand', 'price', 'rating', '5g', 'nfc', 'ir_blaster',\n",
       "       'processor_brand', 'processor_name', 'num_cores', 'processor_speed',\n",
       "       'ram', 'memory', 'battery_capacity', 'fast_charging_capacity',\n",
       "       'Fast_charging', 'screen_size', 'resolution_width', 'resolution_height',\n",
       "       'refresh_rate', 'Punch_Hole', 'Notch', 'primary_camera', 'front_camera',\n",
       "       'num_rear_camera', 'num_front_camera', 'Extra_storage_supported',\n",
       "       'Extra_storage(GB)', 'os_name', 'os_version'],\n",
       "      dtype='object')"
      ]
     },
     "execution_count": 93,
     "metadata": {},
     "output_type": "execute_result"
    }
   ],
   "source": [
    "df1.columns"
   ]
  },
  {
   "cell_type": "code",
   "execution_count": 94,
   "id": "f524bd0a-8782-48f1-90b7-c0c4825cec94",
   "metadata": {},
   "outputs": [
    {
     "data": {
      "text/plain": [
       "ram\n",
       "8.0     737\n",
       "6.0     394\n",
       "4.0     373\n",
       "12.0    282\n",
       "3.0      70\n",
       "2.0      45\n",
       "16.0     37\n",
       "1.0      10\n",
       "18.0      5\n",
       "24.0      1\n",
       "Name: count, dtype: int64"
      ]
     },
     "execution_count": 94,
     "metadata": {},
     "output_type": "execute_result"
    }
   ],
   "source": [
    "df1['ram'].value_counts()"
   ]
  },
  {
   "cell_type": "code",
   "execution_count": 95,
   "id": "feae4c6d-2b5e-43d3-8f95-3ea545d40b47",
   "metadata": {},
   "outputs": [
    {
     "data": {
      "text/plain": [
       "memory\n",
       "128.0     989\n",
       "256.0     484\n",
       "64.0      306\n",
       "32.0       85\n",
       "512.0      61\n",
       "16.0       17\n",
       "1024.0     11\n",
       "8.0         1\n",
       "Name: count, dtype: int64"
      ]
     },
     "execution_count": 95,
     "metadata": {},
     "output_type": "execute_result"
    }
   ],
   "source": [
    "df1['memory'].value_counts()"
   ]
  },
  {
   "cell_type": "code",
   "execution_count": 96,
   "id": "2f7a788d-98b8-40ac-90c9-70ad44e64b4c",
   "metadata": {},
   "outputs": [
    {
     "data": {
      "text/plain": [
       "14"
      ]
     },
     "execution_count": 96,
     "metadata": {},
     "output_type": "execute_result"
    }
   ],
   "source": [
    "df1['battery_capacity'].isnull().sum()"
   ]
  },
  {
   "cell_type": "code",
   "execution_count": 97,
   "id": "32c751db-3886-4716-af0e-23515bb87949",
   "metadata": {},
   "outputs": [
    {
     "name": "stdout",
     "output_type": "stream",
     "text": [
      "<class 'pandas.core.frame.DataFrame'>\n",
      "Index: 1954 entries, 0 to 1962\n",
      "Data columns (total 30 columns):\n",
      " #   Column                   Non-Null Count  Dtype  \n",
      "---  ------                   --------------  -----  \n",
      " 0   mobile_name              1954 non-null   object \n",
      " 1   brand                    1954 non-null   object \n",
      " 2   price                    1954 non-null   int64  \n",
      " 3   rating                   1855 non-null   float64\n",
      " 4   5g                       1954 non-null   bool   \n",
      " 5   nfc                      1954 non-null   bool   \n",
      " 6   ir_blaster               1954 non-null   bool   \n",
      " 7   processor_brand          1954 non-null   object \n",
      " 8   processor_name           1911 non-null   object \n",
      " 9   num_cores                1954 non-null   int64  \n",
      " 10  processor_speed          1836 non-null   float64\n",
      " 11  ram                      1954 non-null   float64\n",
      " 12  memory                   1954 non-null   float64\n",
      " 13  battery_capacity         1940 non-null   float64\n",
      " 14  fast_charging_capacity   1641 non-null   object \n",
      " 15  Fast_charging            1954 non-null   bool   \n",
      " 16  screen_size              1954 non-null   float64\n",
      " 17  resolution_width         1954 non-null   float64\n",
      " 18  resolution_height        1954 non-null   float64\n",
      " 19  refresh_rate             1396 non-null   object \n",
      " 20  Punch_Hole               1954 non-null   bool   \n",
      " 21  Notch                    1954 non-null   bool   \n",
      " 22  primary_camera           1954 non-null   float64\n",
      " 23  front_camera             1952 non-null   object \n",
      " 24  num_rear_camera          1954 non-null   int64  \n",
      " 25  num_front_camera         1954 non-null   int64  \n",
      " 26  Extra_storage_supported  1954 non-null   bool   \n",
      " 27  Extra_storage(GB)        956 non-null    float64\n",
      " 28  os_name                  1923 non-null   object \n",
      " 29  os_version               1913 non-null   object \n",
      "dtypes: bool(7), float64(10), int64(4), object(9)\n",
      "memory usage: 444.3+ KB\n"
     ]
    }
   ],
   "source": [
    "df1.info()"
   ]
  },
  {
   "cell_type": "code",
   "execution_count": 98,
   "id": "35574c87-6444-4691-8825-76765b7036d4",
   "metadata": {},
   "outputs": [
    {
     "data": {
      "text/plain": [
       "primary_camera\n",
       "50.0     778\n",
       "64.0     350\n",
       "108.0    195\n",
       "48.0     176\n",
       "13.0     166\n",
       "12.0      92\n",
       "200.0     67\n",
       "8.0       64\n",
       "16.0      21\n",
       "100.0     10\n",
       "5.0        8\n",
       "12.2       6\n",
       "50.3       5\n",
       "20.0       4\n",
       "54.0       3\n",
       "40.0       2\n",
       "2.0        2\n",
       "24.0       2\n",
       "160.0      1\n",
       "21.0       1\n",
       "47.2       1\n",
       "Name: count, dtype: int64"
      ]
     },
     "execution_count": 98,
     "metadata": {},
     "output_type": "execute_result"
    }
   ],
   "source": [
    "df1['primary_camera'].value_counts()"
   ]
  },
  {
   "cell_type": "code",
   "execution_count": 99,
   "id": "e3d951ba-05a1-4cb4-b7e7-645f2bfa8ed0",
   "metadata": {},
   "outputs": [
    {
     "data": {
      "text/plain": [
       "front_camera\n",
       "16                   586\n",
       "32                   381\n",
       "8                    359\n",
       "5                    197\n",
       "12                   101\n",
       "13                    89\n",
       "20                    53\n",
       "50                    48\n",
       "10                    46\n",
       "60                    21\n",
       "44                    12\n",
       "40                    11\n",
       "7                      9\n",
       "2                      8\n",
       "10.8                   6\n",
       "25                     5\n",
       "10.5                   4\n",
       "24                     4\n",
       "10.1                   2\n",
       "11.1                   2\n",
       "48                     2\n",
       "9.5                    1\n",
       "2.1                    1\n",
       "0.3                    1\n",
       "Main Front Camera      1\n",
       "10.7                   1\n",
       "12.6                   1\n",
       "Name: count, dtype: int64"
      ]
     },
     "execution_count": 99,
     "metadata": {},
     "output_type": "execute_result"
    }
   ],
   "source": [
    "df1['front_camera'].value_counts()"
   ]
  },
  {
   "cell_type": "code",
   "execution_count": 100,
   "id": "4d8df3ee-4885-4391-861c-9da99e15008e",
   "metadata": {},
   "outputs": [],
   "source": [
    "df1.loc[1582,'front_camera']=20"
   ]
  },
  {
   "cell_type": "code",
   "execution_count": 101,
   "id": "a6f9901f-1112-4e88-9f5b-6308aacc1065",
   "metadata": {},
   "outputs": [
    {
     "data": {
      "text/plain": [
       "num_rear_camera\n",
       "3    1098\n",
       "2     531\n",
       "4     233\n",
       "1      92\n",
       "Name: count, dtype: int64"
      ]
     },
     "execution_count": 101,
     "metadata": {},
     "output_type": "execute_result"
    }
   ],
   "source": [
    " df1['num_rear_camera'].value_counts()"
   ]
  },
  {
   "cell_type": "code",
   "execution_count": 102,
   "id": "c7d6d649-4799-4d55-a7b6-b93638814626",
   "metadata": {},
   "outputs": [
    {
     "data": {
      "text/plain": [
       "num_front_camera\n",
       "1    1895\n",
       "2      59\n",
       "Name: count, dtype: int64"
      ]
     },
     "execution_count": 102,
     "metadata": {},
     "output_type": "execute_result"
    }
   ],
   "source": [
    "df1['num_front_camera'].value_counts()"
   ]
  },
  {
   "cell_type": "code",
   "execution_count": 103,
   "id": "5f1c9709-c13f-4201-8c53-5b26b305c201",
   "metadata": {},
   "outputs": [],
   "source": [
    "def os(text):\n",
    "    if text not in ['Android','iOS']:\n",
    "        return 'other'\n",
    "    else :\n",
    "        return text\n",
    "df1['os_name']=df1['os_name'].apply(os)"
   ]
  },
  {
   "cell_type": "code",
   "execution_count": 104,
   "id": "9d1b976c-245e-4176-9e77-f2fd792d4c11",
   "metadata": {},
   "outputs": [
    {
     "data": {
      "text/plain": [
       "os_name  os_version\n",
       "Android  12            623\n",
       "         13            514\n",
       "         11            375\n",
       "         14            116\n",
       "         10             80\n",
       "         9.0            38\n",
       "         10.0           29\n",
       "iOS      16             20\n",
       "         15             18\n",
       "         17             14\n",
       "Android  8.1            12\n",
       "         15             10\n",
       "iOS      14              8\n",
       "         13              7\n",
       "Android  11.0            5\n",
       "other    2.0             4\n",
       "Android  8.0             4\n",
       "iOS      18              4\n",
       "Android  12.1            4\n",
       "iOS      15.0            3\n",
       "         13.0            3\n",
       "         14.0            2\n",
       "Android  5.1.1           2\n",
       "         6.0             2\n",
       "iOS      12.3            2\n",
       "Android  5.1             2\n",
       "other    2               2\n",
       "         12              2\n",
       "         3.1             1\n",
       "iOS      20              1\n",
       "         10              1\n",
       "         19              1\n",
       "Android  9               1\n",
       "         7.1             1\n",
       "         4.4.2           1\n",
       "other    4               1\n",
       "Name: count, dtype: int64"
      ]
     },
     "execution_count": 104,
     "metadata": {},
     "output_type": "execute_result"
    }
   ],
   "source": [
    "df1[['os_name','os_version']].value_counts()"
   ]
  },
  {
   "cell_type": "code",
   "execution_count": 105,
   "id": "6f42f08c-d557-4ce9-8682-3eb2a194e463",
   "metadata": {},
   "outputs": [
    {
     "data": {
      "text/plain": [
       "os_name  os_version\n",
       "Android  12            623\n",
       "         13            514\n",
       "         11            375\n",
       "         14            116\n",
       "         10             80\n",
       "         9.0            38\n",
       "         10.0           29\n",
       "iOS      16             20\n",
       "         15             18\n",
       "         17             14\n",
       "Android  8.1            12\n",
       "         15             10\n",
       "iOS      14              8\n",
       "         13              7\n",
       "Android  11.0            5\n",
       "other    2.0             4\n",
       "Android  8.0             4\n",
       "iOS      18              4\n",
       "Android  12.1            4\n",
       "iOS      15.0            3\n",
       "         13.0            3\n",
       "         14.0            2\n",
       "Android  5.1.1           2\n",
       "         6.0             2\n",
       "iOS      12.3            2\n",
       "Android  5.1             2\n",
       "other    2               2\n",
       "         12              2\n",
       "         3.1             1\n",
       "iOS      20              1\n",
       "         10              1\n",
       "         19              1\n",
       "Android  9               1\n",
       "         7.1             1\n",
       "         4.4.2           1\n",
       "other    4               1\n",
       "Name: count, dtype: int64"
      ]
     },
     "execution_count": 105,
     "metadata": {},
     "output_type": "execute_result"
    }
   ],
   "source": [
    "df1[['os_name','os_version']].value_counts()"
   ]
  },
  {
   "cell_type": "code",
   "execution_count": 106,
   "id": "1113b7b5-2d95-4096-8f9f-474beaa72022",
   "metadata": {},
   "outputs": [],
   "source": [
    "# Step 1: extract major version (first number in string, ignoring weird ones like '4.4.2')\n",
    "df1['os_version'] = pd.to_numeric(\n",
    "    df1['os_version'].astype(str).str.split('.').str[0], \n",
    "    errors='coerce'\n",
    ")\n",
    "\n",
    "important_android = {12, 13, 11, 14, 10, 9, 8, 15}\n",
    "important_ios = {16, 15, 17, 14, 13,18,12,20,10,19}\n",
    "\n",
    "# Step 3: keep only major contributors, else NaN\n",
    "def keep_major(row):\n",
    "    if row['os_name'] == 'Android':\n",
    "        return row['os_version'] if row['os_version'] in important_android else np.nan\n",
    "    elif row['os_name'] == 'iOS':\n",
    "        return row['os_version'] if row['os_version'] in important_ios else np.nan\n",
    "    else:\n",
    "        return np.nan\n",
    "\n",
    "df1['os_version'] = df1.apply(keep_major, axis=1).astype(float)\n"
   ]
  },
  {
   "cell_type": "code",
   "execution_count": 107,
   "id": "6a84eccc-5a96-4ee6-8175-c26ddc12dae4",
   "metadata": {},
   "outputs": [
    {
     "data": {
      "text/plain": [
       "os_name  os_version\n",
       "Android  12.0          627\n",
       "         13.0          514\n",
       "         11.0          380\n",
       "         14.0          116\n",
       "         10.0          109\n",
       "         9.0            39\n",
       "iOS      15.0           21\n",
       "         16.0           20\n",
       "Android  8.0            16\n",
       "iOS      17.0           14\n",
       "Android  15.0           10\n",
       "iOS      13.0           10\n",
       "         14.0           10\n",
       "         18.0            4\n",
       "         12.0            2\n",
       "         10.0            1\n",
       "         19.0            1\n",
       "         20.0            1\n",
       "Name: count, dtype: int64"
      ]
     },
     "execution_count": 107,
     "metadata": {},
     "output_type": "execute_result"
    }
   ],
   "source": [
    "df1[['os_name','os_version']].value_counts()"
   ]
  },
  {
   "cell_type": "markdown",
   "id": "4af50348-9674-4d75-b654-7616952dd36b",
   "metadata": {},
   "source": [
    "#### This is our final view of cleaned dataset"
   ]
  },
  {
   "cell_type": "code",
   "execution_count": 210,
   "id": "f0cb95f4-c27b-4d8a-b2b8-be420d5406e8",
   "metadata": {},
   "outputs": [
    {
     "data": {
      "text/html": [
       "<div>\n",
       "<style scoped>\n",
       "    .dataframe tbody tr th:only-of-type {\n",
       "        vertical-align: middle;\n",
       "    }\n",
       "\n",
       "    .dataframe tbody tr th {\n",
       "        vertical-align: top;\n",
       "    }\n",
       "\n",
       "    .dataframe thead th {\n",
       "        text-align: right;\n",
       "    }\n",
       "</style>\n",
       "<table border=\"1\" class=\"dataframe\">\n",
       "  <thead>\n",
       "    <tr style=\"text-align: right;\">\n",
       "      <th></th>\n",
       "      <th>mobile_name</th>\n",
       "      <th>brand</th>\n",
       "      <th>price</th>\n",
       "      <th>rating</th>\n",
       "      <th>5g</th>\n",
       "      <th>nfc</th>\n",
       "      <th>ir_blaster</th>\n",
       "      <th>processor_brand</th>\n",
       "      <th>processor_name</th>\n",
       "      <th>num_cores</th>\n",
       "      <th>processor_speed</th>\n",
       "      <th>ram</th>\n",
       "      <th>memory</th>\n",
       "      <th>battery_capacity</th>\n",
       "      <th>fast_charging_capacity</th>\n",
       "      <th>Fast_charging</th>\n",
       "      <th>screen_size</th>\n",
       "      <th>resolution_width</th>\n",
       "      <th>resolution_height</th>\n",
       "      <th>refresh_rate</th>\n",
       "      <th>Punch_Hole</th>\n",
       "      <th>Notch</th>\n",
       "      <th>primary_camera</th>\n",
       "      <th>front_camera</th>\n",
       "      <th>num_rear_camera</th>\n",
       "      <th>num_front_camera</th>\n",
       "      <th>Extra_storage_supported</th>\n",
       "      <th>Extra_storage(GB)</th>\n",
       "      <th>os_name</th>\n",
       "      <th>os_version</th>\n",
       "    </tr>\n",
       "  </thead>\n",
       "  <tbody>\n",
       "    <tr>\n",
       "      <th>0</th>\n",
       "      <td>OPPO Reno 11</td>\n",
       "      <td>oppo</td>\n",
       "      <td>29990</td>\n",
       "      <td>4.70</td>\n",
       "      <td>True</td>\n",
       "      <td>True</td>\n",
       "      <td>True</td>\n",
       "      <td>Dimensity</td>\n",
       "      <td>Dimensity 8200</td>\n",
       "      <td>8</td>\n",
       "      <td>3.10</td>\n",
       "      <td>8.0</td>\n",
       "      <td>256.0</td>\n",
       "      <td>4800.0</td>\n",
       "      <td>67</td>\n",
       "      <td>True</td>\n",
       "      <td>6.70</td>\n",
       "      <td>1080.0</td>\n",
       "      <td>2412.0</td>\n",
       "      <td>120</td>\n",
       "      <td>True</td>\n",
       "      <td>False</td>\n",
       "      <td>50.0</td>\n",
       "      <td>32</td>\n",
       "      <td>3</td>\n",
       "      <td>1</td>\n",
       "      <td>False</td>\n",
       "      <td>NaN</td>\n",
       "      <td>Android</td>\n",
       "      <td>14.0</td>\n",
       "    </tr>\n",
       "    <tr>\n",
       "      <th>1</th>\n",
       "      <td>Poco X6 Pro 5G</td>\n",
       "      <td>poco</td>\n",
       "      <td>19999</td>\n",
       "      <td>4.50</td>\n",
       "      <td>True</td>\n",
       "      <td>True</td>\n",
       "      <td>True</td>\n",
       "      <td>Dimensity</td>\n",
       "      <td>Dimensity 8300 Ultra</td>\n",
       "      <td>8</td>\n",
       "      <td>3.35</td>\n",
       "      <td>12.0</td>\n",
       "      <td>256.0</td>\n",
       "      <td>5500.0</td>\n",
       "      <td>90</td>\n",
       "      <td>True</td>\n",
       "      <td>6.67</td>\n",
       "      <td>1220.0</td>\n",
       "      <td>2712.0</td>\n",
       "      <td>120</td>\n",
       "      <td>True</td>\n",
       "      <td>False</td>\n",
       "      <td>64.0</td>\n",
       "      <td>16</td>\n",
       "      <td>3</td>\n",
       "      <td>1</td>\n",
       "      <td>False</td>\n",
       "      <td>NaN</td>\n",
       "      <td>Android</td>\n",
       "      <td>14.0</td>\n",
       "    </tr>\n",
       "    <tr>\n",
       "      <th>2</th>\n",
       "      <td>Xiaomi Redmi Note 13 Pro Plus</td>\n",
       "      <td>xiaomi</td>\n",
       "      <td>31999</td>\n",
       "      <td>4.35</td>\n",
       "      <td>True</td>\n",
       "      <td>True</td>\n",
       "      <td>True</td>\n",
       "      <td>Dimensity</td>\n",
       "      <td>Dimensity 7200 Ultra</td>\n",
       "      <td>8</td>\n",
       "      <td>2.80</td>\n",
       "      <td>8.0</td>\n",
       "      <td>256.0</td>\n",
       "      <td>5000.0</td>\n",
       "      <td>120</td>\n",
       "      <td>True</td>\n",
       "      <td>6.67</td>\n",
       "      <td>1220.0</td>\n",
       "      <td>2712.0</td>\n",
       "      <td>120</td>\n",
       "      <td>True</td>\n",
       "      <td>False</td>\n",
       "      <td>200.0</td>\n",
       "      <td>16</td>\n",
       "      <td>3</td>\n",
       "      <td>1</td>\n",
       "      <td>False</td>\n",
       "      <td>NaN</td>\n",
       "      <td>Android</td>\n",
       "      <td>13.0</td>\n",
       "    </tr>\n",
       "    <tr>\n",
       "      <th>3</th>\n",
       "      <td>OPPO Reno 11 Pro</td>\n",
       "      <td>oppo</td>\n",
       "      <td>40990</td>\n",
       "      <td>4.75</td>\n",
       "      <td>True</td>\n",
       "      <td>True</td>\n",
       "      <td>True</td>\n",
       "      <td>Dimensity</td>\n",
       "      <td>Dimensity 8200</td>\n",
       "      <td>8</td>\n",
       "      <td>3.10</td>\n",
       "      <td>12.0</td>\n",
       "      <td>256.0</td>\n",
       "      <td>4600.0</td>\n",
       "      <td>80</td>\n",
       "      <td>True</td>\n",
       "      <td>6.74</td>\n",
       "      <td>1240.0</td>\n",
       "      <td>2772.0</td>\n",
       "      <td>120</td>\n",
       "      <td>True</td>\n",
       "      <td>False</td>\n",
       "      <td>50.0</td>\n",
       "      <td>32</td>\n",
       "      <td>3</td>\n",
       "      <td>1</td>\n",
       "      <td>False</td>\n",
       "      <td>NaN</td>\n",
       "      <td>Android</td>\n",
       "      <td>14.0</td>\n",
       "    </tr>\n",
       "    <tr>\n",
       "      <th>4</th>\n",
       "      <td>Xiaomi Redmi Note 13 Pro Max 5G</td>\n",
       "      <td>xiaomi</td>\n",
       "      <td>33999</td>\n",
       "      <td>4.00</td>\n",
       "      <td>True</td>\n",
       "      <td>True</td>\n",
       "      <td>True</td>\n",
       "      <td>Snapdragon</td>\n",
       "      <td>Snapdragon 7 Gen1</td>\n",
       "      <td>8</td>\n",
       "      <td>2.40</td>\n",
       "      <td>12.0</td>\n",
       "      <td>256.0</td>\n",
       "      <td>5200.0</td>\n",
       "      <td>120</td>\n",
       "      <td>True</td>\n",
       "      <td>6.67</td>\n",
       "      <td>1220.0</td>\n",
       "      <td>2712.0</td>\n",
       "      <td>144</td>\n",
       "      <td>True</td>\n",
       "      <td>False</td>\n",
       "      <td>200.0</td>\n",
       "      <td>32</td>\n",
       "      <td>3</td>\n",
       "      <td>1</td>\n",
       "      <td>False</td>\n",
       "      <td>NaN</td>\n",
       "      <td>Android</td>\n",
       "      <td>13.0</td>\n",
       "    </tr>\n",
       "  </tbody>\n",
       "</table>\n",
       "</div>"
      ],
      "text/plain": [
       "                       mobile_name   brand  price  rating    5g   nfc  \\\n",
       "0                     OPPO Reno 11    oppo  29990    4.70  True  True   \n",
       "1                   Poco X6 Pro 5G    poco  19999    4.50  True  True   \n",
       "2    Xiaomi Redmi Note 13 Pro Plus  xiaomi  31999    4.35  True  True   \n",
       "3                 OPPO Reno 11 Pro    oppo  40990    4.75  True  True   \n",
       "4  Xiaomi Redmi Note 13 Pro Max 5G  xiaomi  33999    4.00  True  True   \n",
       "\n",
       "   ir_blaster processor_brand        processor_name  num_cores  \\\n",
       "0        True       Dimensity        Dimensity 8200          8   \n",
       "1        True       Dimensity  Dimensity 8300 Ultra          8   \n",
       "2        True       Dimensity  Dimensity 7200 Ultra          8   \n",
       "3        True       Dimensity        Dimensity 8200          8   \n",
       "4        True      Snapdragon     Snapdragon 7 Gen1          8   \n",
       "\n",
       "   processor_speed   ram  memory  battery_capacity fast_charging_capacity  \\\n",
       "0             3.10   8.0   256.0            4800.0                     67   \n",
       "1             3.35  12.0   256.0            5500.0                     90   \n",
       "2             2.80   8.0   256.0            5000.0                    120   \n",
       "3             3.10  12.0   256.0            4600.0                     80   \n",
       "4             2.40  12.0   256.0            5200.0                    120   \n",
       "\n",
       "   Fast_charging  screen_size  resolution_width  resolution_height  \\\n",
       "0           True         6.70            1080.0             2412.0   \n",
       "1           True         6.67            1220.0             2712.0   \n",
       "2           True         6.67            1220.0             2712.0   \n",
       "3           True         6.74            1240.0             2772.0   \n",
       "4           True         6.67            1220.0             2712.0   \n",
       "\n",
       "  refresh_rate  Punch_Hole  Notch  primary_camera front_camera  \\\n",
       "0          120        True  False            50.0          32    \n",
       "1          120        True  False            64.0          16    \n",
       "2          120        True  False           200.0          16    \n",
       "3          120        True  False            50.0          32    \n",
       "4          144        True  False           200.0          32    \n",
       "\n",
       "   num_rear_camera  num_front_camera  Extra_storage_supported  \\\n",
       "0                3                 1                    False   \n",
       "1                3                 1                    False   \n",
       "2                3                 1                    False   \n",
       "3                3                 1                    False   \n",
       "4                3                 1                    False   \n",
       "\n",
       "   Extra_storage(GB)  os_name  os_version  \n",
       "0                NaN  Android        14.0  \n",
       "1                NaN  Android        14.0  \n",
       "2                NaN  Android        13.0  \n",
       "3                NaN  Android        14.0  \n",
       "4                NaN  Android        13.0  "
      ]
     },
     "execution_count": 210,
     "metadata": {},
     "output_type": "execute_result"
    }
   ],
   "source": [
    "pd.set_option('display.max_columns',None)\n",
    "df1.head()"
   ]
  },
  {
   "cell_type": "code",
   "execution_count": 110,
   "id": "4a046dfd-2428-42dd-ae73-8de64e61caa7",
   "metadata": {},
   "outputs": [],
   "source": [
    "df1.to_csv('mobiles_cleaned.csv',index=False)"
   ]
  },
  {
   "cell_type": "code",
   "execution_count": null,
   "id": "7e69f50e-c56e-4e7c-936f-4602cca850a4",
   "metadata": {},
   "outputs": [],
   "source": []
  }
 ],
 "metadata": {
  "kernelspec": {
   "display_name": "Python 3 (ipykernel)",
   "language": "python",
   "name": "python3"
  },
  "language_info": {
   "codemirror_mode": {
    "name": "ipython",
    "version": 3
   },
   "file_extension": ".py",
   "mimetype": "text/x-python",
   "name": "python",
   "nbconvert_exporter": "python",
   "pygments_lexer": "ipython3",
   "version": "3.12.4"
  }
 },
 "nbformat": 4,
 "nbformat_minor": 5
}
