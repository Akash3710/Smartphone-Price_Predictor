{
 "cells": [
  {
   "cell_type": "code",
   "execution_count": 1,
   "id": "ec786b47-b0f5-4b6e-8575-5e84e6acb893",
   "metadata": {},
   "outputs": [],
   "source": [
    "import pandas as pd\n",
    "import numpy as np"
   ]
  },
  {
   "cell_type": "code",
   "execution_count": 2,
   "id": "b1c689a0-362e-479c-b53b-12f8b44300aa",
   "metadata": {},
   "outputs": [],
   "source": [
    "df=pd.read_csv('after_missing_value_imputation.csv')"
   ]
  },
  {
   "cell_type": "code",
   "execution_count": 3,
   "id": "c08bfd51-7532-4c19-bf88-5b488ac452e4",
   "metadata": {},
   "outputs": [],
   "source": [
    "df1=df.copy()"
   ]
  },
  {
   "cell_type": "code",
   "execution_count": 4,
   "id": "1405aa5a-41c3-42e0-8255-78762559b5aa",
   "metadata": {},
   "outputs": [
    {
     "data": {
      "text/html": [
       "<div>\n",
       "<style scoped>\n",
       "    .dataframe tbody tr th:only-of-type {\n",
       "        vertical-align: middle;\n",
       "    }\n",
       "\n",
       "    .dataframe tbody tr th {\n",
       "        vertical-align: top;\n",
       "    }\n",
       "\n",
       "    .dataframe thead th {\n",
       "        text-align: right;\n",
       "    }\n",
       "</style>\n",
       "<table border=\"1\" class=\"dataframe\">\n",
       "  <thead>\n",
       "    <tr style=\"text-align: right;\">\n",
       "      <th></th>\n",
       "      <th>brand</th>\n",
       "      <th>price</th>\n",
       "      <th>rating</th>\n",
       "      <th>5g</th>\n",
       "      <th>nfc</th>\n",
       "      <th>ir_blaster</th>\n",
       "      <th>processor_brand</th>\n",
       "      <th>num_cores</th>\n",
       "      <th>processor_speed</th>\n",
       "      <th>ram</th>\n",
       "      <th>memory</th>\n",
       "      <th>battery_capacity</th>\n",
       "      <th>fast_charging_capacity</th>\n",
       "      <th>Fast_charging</th>\n",
       "      <th>screen_size</th>\n",
       "      <th>resolution_width</th>\n",
       "      <th>resolution_height</th>\n",
       "      <th>refresh_rate</th>\n",
       "      <th>Punch_Hole</th>\n",
       "      <th>Notch</th>\n",
       "      <th>primary_camera</th>\n",
       "      <th>front_camera</th>\n",
       "      <th>num_rear_camera</th>\n",
       "      <th>num_front_camera</th>\n",
       "      <th>Extra_storage_supported</th>\n",
       "      <th>os_name</th>\n",
       "      <th>os_version</th>\n",
       "      <th>is_fold</th>\n",
       "    </tr>\n",
       "  </thead>\n",
       "  <tbody>\n",
       "    <tr>\n",
       "      <th>0</th>\n",
       "      <td>oppo</td>\n",
       "      <td>29990</td>\n",
       "      <td>4.70</td>\n",
       "      <td>True</td>\n",
       "      <td>True</td>\n",
       "      <td>True</td>\n",
       "      <td>Dimensity</td>\n",
       "      <td>8</td>\n",
       "      <td>3.10</td>\n",
       "      <td>8.0</td>\n",
       "      <td>256.0</td>\n",
       "      <td>4800.0</td>\n",
       "      <td>67.0</td>\n",
       "      <td>True</td>\n",
       "      <td>6.70</td>\n",
       "      <td>1080.0</td>\n",
       "      <td>2412.0</td>\n",
       "      <td>120.0</td>\n",
       "      <td>True</td>\n",
       "      <td>False</td>\n",
       "      <td>50.0</td>\n",
       "      <td>32.0</td>\n",
       "      <td>3</td>\n",
       "      <td>1</td>\n",
       "      <td>False</td>\n",
       "      <td>Android</td>\n",
       "      <td>14.0</td>\n",
       "      <td>False</td>\n",
       "    </tr>\n",
       "    <tr>\n",
       "      <th>1</th>\n",
       "      <td>poco</td>\n",
       "      <td>19999</td>\n",
       "      <td>4.50</td>\n",
       "      <td>True</td>\n",
       "      <td>True</td>\n",
       "      <td>True</td>\n",
       "      <td>Dimensity</td>\n",
       "      <td>8</td>\n",
       "      <td>3.35</td>\n",
       "      <td>12.0</td>\n",
       "      <td>256.0</td>\n",
       "      <td>5500.0</td>\n",
       "      <td>90.0</td>\n",
       "      <td>True</td>\n",
       "      <td>6.67</td>\n",
       "      <td>1220.0</td>\n",
       "      <td>2712.0</td>\n",
       "      <td>120.0</td>\n",
       "      <td>True</td>\n",
       "      <td>False</td>\n",
       "      <td>64.0</td>\n",
       "      <td>16.0</td>\n",
       "      <td>3</td>\n",
       "      <td>1</td>\n",
       "      <td>False</td>\n",
       "      <td>Android</td>\n",
       "      <td>14.0</td>\n",
       "      <td>False</td>\n",
       "    </tr>\n",
       "    <tr>\n",
       "      <th>2</th>\n",
       "      <td>xiaomi</td>\n",
       "      <td>31999</td>\n",
       "      <td>4.35</td>\n",
       "      <td>True</td>\n",
       "      <td>True</td>\n",
       "      <td>True</td>\n",
       "      <td>Dimensity</td>\n",
       "      <td>8</td>\n",
       "      <td>2.80</td>\n",
       "      <td>8.0</td>\n",
       "      <td>256.0</td>\n",
       "      <td>5000.0</td>\n",
       "      <td>120.0</td>\n",
       "      <td>True</td>\n",
       "      <td>6.67</td>\n",
       "      <td>1220.0</td>\n",
       "      <td>2712.0</td>\n",
       "      <td>120.0</td>\n",
       "      <td>True</td>\n",
       "      <td>False</td>\n",
       "      <td>200.0</td>\n",
       "      <td>16.0</td>\n",
       "      <td>3</td>\n",
       "      <td>1</td>\n",
       "      <td>False</td>\n",
       "      <td>Android</td>\n",
       "      <td>13.0</td>\n",
       "      <td>False</td>\n",
       "    </tr>\n",
       "    <tr>\n",
       "      <th>3</th>\n",
       "      <td>oppo</td>\n",
       "      <td>40990</td>\n",
       "      <td>4.75</td>\n",
       "      <td>True</td>\n",
       "      <td>True</td>\n",
       "      <td>True</td>\n",
       "      <td>Dimensity</td>\n",
       "      <td>8</td>\n",
       "      <td>3.10</td>\n",
       "      <td>12.0</td>\n",
       "      <td>256.0</td>\n",
       "      <td>4600.0</td>\n",
       "      <td>80.0</td>\n",
       "      <td>True</td>\n",
       "      <td>6.74</td>\n",
       "      <td>1240.0</td>\n",
       "      <td>2772.0</td>\n",
       "      <td>120.0</td>\n",
       "      <td>True</td>\n",
       "      <td>False</td>\n",
       "      <td>50.0</td>\n",
       "      <td>32.0</td>\n",
       "      <td>3</td>\n",
       "      <td>1</td>\n",
       "      <td>False</td>\n",
       "      <td>Android</td>\n",
       "      <td>14.0</td>\n",
       "      <td>False</td>\n",
       "    </tr>\n",
       "    <tr>\n",
       "      <th>4</th>\n",
       "      <td>xiaomi</td>\n",
       "      <td>33999</td>\n",
       "      <td>4.00</td>\n",
       "      <td>True</td>\n",
       "      <td>True</td>\n",
       "      <td>True</td>\n",
       "      <td>Snapdragon</td>\n",
       "      <td>8</td>\n",
       "      <td>2.40</td>\n",
       "      <td>12.0</td>\n",
       "      <td>256.0</td>\n",
       "      <td>5200.0</td>\n",
       "      <td>120.0</td>\n",
       "      <td>True</td>\n",
       "      <td>6.67</td>\n",
       "      <td>1220.0</td>\n",
       "      <td>2712.0</td>\n",
       "      <td>144.0</td>\n",
       "      <td>True</td>\n",
       "      <td>False</td>\n",
       "      <td>200.0</td>\n",
       "      <td>32.0</td>\n",
       "      <td>3</td>\n",
       "      <td>1</td>\n",
       "      <td>False</td>\n",
       "      <td>Android</td>\n",
       "      <td>13.0</td>\n",
       "      <td>False</td>\n",
       "    </tr>\n",
       "  </tbody>\n",
       "</table>\n",
       "</div>"
      ],
      "text/plain": [
       "    brand  price  rating    5g   nfc  ir_blaster processor_brand  num_cores  \\\n",
       "0    oppo  29990    4.70  True  True        True       Dimensity          8   \n",
       "1    poco  19999    4.50  True  True        True       Dimensity          8   \n",
       "2  xiaomi  31999    4.35  True  True        True       Dimensity          8   \n",
       "3    oppo  40990    4.75  True  True        True       Dimensity          8   \n",
       "4  xiaomi  33999    4.00  True  True        True      Snapdragon          8   \n",
       "\n",
       "   processor_speed   ram  memory  battery_capacity  fast_charging_capacity  \\\n",
       "0             3.10   8.0   256.0            4800.0                    67.0   \n",
       "1             3.35  12.0   256.0            5500.0                    90.0   \n",
       "2             2.80   8.0   256.0            5000.0                   120.0   \n",
       "3             3.10  12.0   256.0            4600.0                    80.0   \n",
       "4             2.40  12.0   256.0            5200.0                   120.0   \n",
       "\n",
       "   Fast_charging  screen_size  resolution_width  resolution_height  \\\n",
       "0           True         6.70            1080.0             2412.0   \n",
       "1           True         6.67            1220.0             2712.0   \n",
       "2           True         6.67            1220.0             2712.0   \n",
       "3           True         6.74            1240.0             2772.0   \n",
       "4           True         6.67            1220.0             2712.0   \n",
       "\n",
       "   refresh_rate  Punch_Hole  Notch  primary_camera  front_camera  \\\n",
       "0         120.0        True  False            50.0          32.0   \n",
       "1         120.0        True  False            64.0          16.0   \n",
       "2         120.0        True  False           200.0          16.0   \n",
       "3         120.0        True  False            50.0          32.0   \n",
       "4         144.0        True  False           200.0          32.0   \n",
       "\n",
       "   num_rear_camera  num_front_camera  Extra_storage_supported  os_name  \\\n",
       "0                3                 1                    False  Android   \n",
       "1                3                 1                    False  Android   \n",
       "2                3                 1                    False  Android   \n",
       "3                3                 1                    False  Android   \n",
       "4                3                 1                    False  Android   \n",
       "\n",
       "   os_version  is_fold  \n",
       "0        14.0    False  \n",
       "1        14.0    False  \n",
       "2        13.0    False  \n",
       "3        14.0    False  \n",
       "4        13.0    False  "
      ]
     },
     "execution_count": 4,
     "metadata": {},
     "output_type": "execute_result"
    }
   ],
   "source": [
    "pd.set_option('display.max_columns',None)\n",
    "df1.head()"
   ]
  },
  {
   "cell_type": "markdown",
   "id": "64a907c3-8d21-4580-9489-4897b4aa6e83",
   "metadata": {},
   "source": [
    "We will make one new column ppi from resolution height and resolution width and screen size"
   ]
  },
  {
   "cell_type": "code",
   "execution_count": 5,
   "id": "c9775f0d-168e-4403-93e1-8ac6a5a3e523",
   "metadata": {},
   "outputs": [],
   "source": [
    "df1['ppi']=np.round(np.sqrt(df1['resolution_width']**2 +df1['resolution_height']**2)/df1['screen_size'])"
   ]
  },
  {
   "cell_type": "code",
   "execution_count": 6,
   "id": "a13617c7-4c29-4147-a037-0201c1ce6030",
   "metadata": {},
   "outputs": [],
   "source": [
    "df1.drop(columns=['resolution_width','resolution_height','screen_size'],inplace =True)"
   ]
  },
  {
   "cell_type": "markdown",
   "id": "f2326926-4020-4f4a-9164-20b6a2d4a91b",
   "metadata": {},
   "source": [
    "We will make one new column from num_cores and processor_speed"
   ]
  },
  {
   "cell_type": "code",
   "execution_count": 7,
   "id": "dfd3446b-3719-4f2a-b5ea-29c861832d4d",
   "metadata": {},
   "outputs": [],
   "source": [
    "df1['processing_power']=np.round((df1['num_cores']*df1['processor_speed']))"
   ]
  },
  {
   "cell_type": "code",
   "execution_count": 8,
   "id": "724ada59-811b-42eb-9b0d-a29b15f3d73d",
   "metadata": {},
   "outputs": [],
   "source": [
    "df1.drop(columns=['num_cores','processor_speed'],inplace =True)"
   ]
  },
  {
   "cell_type": "code",
   "execution_count": 9,
   "id": "d26e66dd-bc20-46a6-913c-1ef7fcd99540",
   "metadata": {},
   "outputs": [],
   "source": [
    "df1.drop(columns=['is_fold'],inplace =True)"
   ]
  },
  {
   "cell_type": "code",
   "execution_count": 10,
   "id": "f7ff79de-ba5f-40c7-9de0-64b0ecc64bce",
   "metadata": {},
   "outputs": [
    {
     "data": {
      "text/plain": [
       "2.204000116834292"
      ]
     },
     "execution_count": 10,
     "metadata": {},
     "output_type": "execute_result"
    }
   ],
   "source": [
    "np.round(df1['primary_camera']).skew()"
   ]
  },
  {
   "cell_type": "code",
   "execution_count": 11,
   "id": "b723ebdf-1965-4af4-aa6e-effb203c0870",
   "metadata": {},
   "outputs": [
    {
     "data": {
      "text/plain": [
       "refresh_rate\n",
       "120.0    816\n",
       "90.0     415\n",
       "144.0    120\n",
       "165.0     35\n",
       "60.0       1\n",
       "Name: count, dtype: int64"
      ]
     },
     "execution_count": 11,
     "metadata": {},
     "output_type": "execute_result"
    }
   ],
   "source": [
    "df1['refresh_rate'].value_counts()"
   ]
  },
  {
   "cell_type": "code",
   "execution_count": 12,
   "id": "317a6bbc-c639-4e1d-9216-03fa04edb49c",
   "metadata": {},
   "outputs": [
    {
     "name": "stdout",
     "output_type": "stream",
     "text": [
      "battery_capacity_bin\n",
      "Large (4000-5000 mAh)     1167\n",
      "Very Large (>5000 mAh)     180\n",
      "Medium (3000-4000 mAh)      40\n",
      "Small (<3000 mAh)            0\n",
      "Name: count, dtype: int64\n"
     ]
    }
   ],
   "source": [
    "# Example bins and labels for battery capacity\n",
    "bins = [0, 3000, 4000, 5000, float('inf')]\n",
    "labels = ['Small (<3000 mAh)', 'Medium (3000-4000 mAh)', 'Large (4000-5000 mAh)', 'Very Large (>5000 mAh)']\n",
    "\n",
    "df1['battery_capacity_bin'] = pd.cut(df1['battery_capacity'], bins=bins, labels=labels)\n",
    "\n",
    "# Check distribution\n",
    "print(df1['battery_capacity_bin'].value_counts())\n"
   ]
  },
  {
   "cell_type": "code",
   "execution_count": 13,
   "id": "e0afe6e8-be31-4ed1-a0ce-dc0c2e65b5bd",
   "metadata": {},
   "outputs": [],
   "source": [
    "df1['fast_charging_capacity'] = df1['fast_charging_capacity'].round(0)\n",
    "\n",
    "def fast_charge_tier(w):\n",
    "    if pd.isna(w): \n",
    "        return pd.NA\n",
    "    w = float(w)\n",
    "    if w <= 15:\n",
    "        return 'Very Slow (≤15W)'\n",
    "    elif w <= 25:\n",
    "        return 'Slow (16–25W)'\n",
    "    elif w <= 40:\n",
    "        return 'Mainstream Fast (26–40W)'\n",
    "    elif w <= 70:\n",
    "        return 'Upper-Mid Fast (41–70W)'\n",
    "    elif w <= 110:\n",
    "        return 'High Fast (71–110W)'\n",
    "    elif w <= 150:\n",
    "        return 'Ultra Fast (111–150W)'\n",
    "    else:\n",
    "        return 'Extreme (150W+)'\n",
    "\n",
    "order = [\n",
    "    'Very Slow (≤15W)',\n",
    "    'Slow (16–25W)',\n",
    "    'Mainstream Fast (26–40W)',\n",
    "    'Upper-Mid Fast (41–70W)',\n",
    "    'High Fast (71–110W)',\n",
    "    'Ultra Fast (111–150W)',\n",
    "    'Extreme (150W+)',\n",
    "]\n",
    "\n",
    "df1['fast_charge_tier'] = df1['fast_charging_capacity'].apply(fast_charge_tier).astype('str')"
   ]
  },
  {
   "cell_type": "code",
   "execution_count": null,
   "id": "9c959614-68c7-4d9f-9cb4-7745754b4094",
   "metadata": {},
   "outputs": [],
   "source": []
  },
  {
   "cell_type": "code",
   "execution_count": 14,
   "id": "e1c61673-fe96-47bc-9705-fece0feebed4",
   "metadata": {},
   "outputs": [],
   "source": [
    "df1.drop(columns=['battery_capacity','fast_charging_capacity'],inplace =True)"
   ]
  },
  {
   "cell_type": "code",
   "execution_count": 15,
   "id": "187e52d1-e9ce-44bd-b687-31acedf5754b",
   "metadata": {},
   "outputs": [],
   "source": [
    "bins = [0, 20, 50, 100, 200, float('inf')]\n",
    "labels = ['Low', 'Mid-Low', 'Mid', 'High', 'Ultra']\n",
    "\n",
    "df1['primary_camera_cat'] = pd.cut(df1['primary_camera'], bins=bins, labels=labels, right=False)\n"
   ]
  },
  {
   "cell_type": "code",
   "execution_count": 16,
   "id": "bcc953b6-5f67-4c54-94ef-2204d6f70bcc",
   "metadata": {},
   "outputs": [
    {
     "data": {
      "text/plain": [
       "primary_camera_cat\n",
       "Mid        947\n",
       "High       194\n",
       "Mid-Low    109\n",
       "Low         71\n",
       "Ultra       66\n",
       "Name: count, dtype: int64"
      ]
     },
     "execution_count": 16,
     "metadata": {},
     "output_type": "execute_result"
    }
   ],
   "source": [
    "df1['primary_camera_cat'].value_counts()"
   ]
  },
  {
   "cell_type": "code",
   "execution_count": 17,
   "id": "18ea233a-e05c-48b3-a30e-70ddc156221e",
   "metadata": {},
   "outputs": [],
   "source": [
    "df1.drop(columns=['primary_camera'],inplace =True)"
   ]
  },
  {
   "cell_type": "code",
   "execution_count": 18,
   "id": "130c454c-8c7a-41c2-a033-b1c0053e8ae9",
   "metadata": {},
   "outputs": [
    {
     "data": {
      "text/html": [
       "<div>\n",
       "<style scoped>\n",
       "    .dataframe tbody tr th:only-of-type {\n",
       "        vertical-align: middle;\n",
       "    }\n",
       "\n",
       "    .dataframe tbody tr th {\n",
       "        vertical-align: top;\n",
       "    }\n",
       "\n",
       "    .dataframe thead th {\n",
       "        text-align: right;\n",
       "    }\n",
       "</style>\n",
       "<table border=\"1\" class=\"dataframe\">\n",
       "  <thead>\n",
       "    <tr style=\"text-align: right;\">\n",
       "      <th></th>\n",
       "      <th>brand</th>\n",
       "      <th>price</th>\n",
       "      <th>rating</th>\n",
       "      <th>5g</th>\n",
       "      <th>nfc</th>\n",
       "      <th>ir_blaster</th>\n",
       "      <th>processor_brand</th>\n",
       "      <th>ram</th>\n",
       "      <th>memory</th>\n",
       "      <th>Fast_charging</th>\n",
       "      <th>refresh_rate</th>\n",
       "      <th>Punch_Hole</th>\n",
       "      <th>Notch</th>\n",
       "      <th>front_camera</th>\n",
       "      <th>num_rear_camera</th>\n",
       "      <th>num_front_camera</th>\n",
       "      <th>Extra_storage_supported</th>\n",
       "      <th>os_name</th>\n",
       "      <th>os_version</th>\n",
       "      <th>ppi</th>\n",
       "      <th>processing_power</th>\n",
       "      <th>battery_capacity_bin</th>\n",
       "      <th>fast_charge_tier</th>\n",
       "      <th>primary_camera_cat</th>\n",
       "    </tr>\n",
       "  </thead>\n",
       "  <tbody>\n",
       "    <tr>\n",
       "      <th>0</th>\n",
       "      <td>oppo</td>\n",
       "      <td>29990</td>\n",
       "      <td>4.70</td>\n",
       "      <td>True</td>\n",
       "      <td>True</td>\n",
       "      <td>True</td>\n",
       "      <td>Dimensity</td>\n",
       "      <td>8.0</td>\n",
       "      <td>256.0</td>\n",
       "      <td>True</td>\n",
       "      <td>120.0</td>\n",
       "      <td>True</td>\n",
       "      <td>False</td>\n",
       "      <td>32.0</td>\n",
       "      <td>3</td>\n",
       "      <td>1</td>\n",
       "      <td>False</td>\n",
       "      <td>Android</td>\n",
       "      <td>14.0</td>\n",
       "      <td>394.0</td>\n",
       "      <td>25.0</td>\n",
       "      <td>Large (4000-5000 mAh)</td>\n",
       "      <td>Upper-Mid Fast (41–70W)</td>\n",
       "      <td>Mid</td>\n",
       "    </tr>\n",
       "    <tr>\n",
       "      <th>1</th>\n",
       "      <td>poco</td>\n",
       "      <td>19999</td>\n",
       "      <td>4.50</td>\n",
       "      <td>True</td>\n",
       "      <td>True</td>\n",
       "      <td>True</td>\n",
       "      <td>Dimensity</td>\n",
       "      <td>12.0</td>\n",
       "      <td>256.0</td>\n",
       "      <td>True</td>\n",
       "      <td>120.0</td>\n",
       "      <td>True</td>\n",
       "      <td>False</td>\n",
       "      <td>16.0</td>\n",
       "      <td>3</td>\n",
       "      <td>1</td>\n",
       "      <td>False</td>\n",
       "      <td>Android</td>\n",
       "      <td>14.0</td>\n",
       "      <td>446.0</td>\n",
       "      <td>27.0</td>\n",
       "      <td>Very Large (&gt;5000 mAh)</td>\n",
       "      <td>High Fast (71–110W)</td>\n",
       "      <td>Mid</td>\n",
       "    </tr>\n",
       "    <tr>\n",
       "      <th>2</th>\n",
       "      <td>xiaomi</td>\n",
       "      <td>31999</td>\n",
       "      <td>4.35</td>\n",
       "      <td>True</td>\n",
       "      <td>True</td>\n",
       "      <td>True</td>\n",
       "      <td>Dimensity</td>\n",
       "      <td>8.0</td>\n",
       "      <td>256.0</td>\n",
       "      <td>True</td>\n",
       "      <td>120.0</td>\n",
       "      <td>True</td>\n",
       "      <td>False</td>\n",
       "      <td>16.0</td>\n",
       "      <td>3</td>\n",
       "      <td>1</td>\n",
       "      <td>False</td>\n",
       "      <td>Android</td>\n",
       "      <td>13.0</td>\n",
       "      <td>446.0</td>\n",
       "      <td>22.0</td>\n",
       "      <td>Large (4000-5000 mAh)</td>\n",
       "      <td>Ultra Fast (111–150W)</td>\n",
       "      <td>Ultra</td>\n",
       "    </tr>\n",
       "    <tr>\n",
       "      <th>3</th>\n",
       "      <td>oppo</td>\n",
       "      <td>40990</td>\n",
       "      <td>4.75</td>\n",
       "      <td>True</td>\n",
       "      <td>True</td>\n",
       "      <td>True</td>\n",
       "      <td>Dimensity</td>\n",
       "      <td>12.0</td>\n",
       "      <td>256.0</td>\n",
       "      <td>True</td>\n",
       "      <td>120.0</td>\n",
       "      <td>True</td>\n",
       "      <td>False</td>\n",
       "      <td>32.0</td>\n",
       "      <td>3</td>\n",
       "      <td>1</td>\n",
       "      <td>False</td>\n",
       "      <td>Android</td>\n",
       "      <td>14.0</td>\n",
       "      <td>451.0</td>\n",
       "      <td>25.0</td>\n",
       "      <td>Large (4000-5000 mAh)</td>\n",
       "      <td>High Fast (71–110W)</td>\n",
       "      <td>Mid</td>\n",
       "    </tr>\n",
       "    <tr>\n",
       "      <th>4</th>\n",
       "      <td>xiaomi</td>\n",
       "      <td>33999</td>\n",
       "      <td>4.00</td>\n",
       "      <td>True</td>\n",
       "      <td>True</td>\n",
       "      <td>True</td>\n",
       "      <td>Snapdragon</td>\n",
       "      <td>12.0</td>\n",
       "      <td>256.0</td>\n",
       "      <td>True</td>\n",
       "      <td>144.0</td>\n",
       "      <td>True</td>\n",
       "      <td>False</td>\n",
       "      <td>32.0</td>\n",
       "      <td>3</td>\n",
       "      <td>1</td>\n",
       "      <td>False</td>\n",
       "      <td>Android</td>\n",
       "      <td>13.0</td>\n",
       "      <td>446.0</td>\n",
       "      <td>19.0</td>\n",
       "      <td>Very Large (&gt;5000 mAh)</td>\n",
       "      <td>Ultra Fast (111–150W)</td>\n",
       "      <td>Ultra</td>\n",
       "    </tr>\n",
       "  </tbody>\n",
       "</table>\n",
       "</div>"
      ],
      "text/plain": [
       "    brand  price  rating    5g   nfc  ir_blaster processor_brand   ram  \\\n",
       "0    oppo  29990    4.70  True  True        True       Dimensity   8.0   \n",
       "1    poco  19999    4.50  True  True        True       Dimensity  12.0   \n",
       "2  xiaomi  31999    4.35  True  True        True       Dimensity   8.0   \n",
       "3    oppo  40990    4.75  True  True        True       Dimensity  12.0   \n",
       "4  xiaomi  33999    4.00  True  True        True      Snapdragon  12.0   \n",
       "\n",
       "   memory  Fast_charging  refresh_rate  Punch_Hole  Notch  front_camera  \\\n",
       "0   256.0           True         120.0        True  False          32.0   \n",
       "1   256.0           True         120.0        True  False          16.0   \n",
       "2   256.0           True         120.0        True  False          16.0   \n",
       "3   256.0           True         120.0        True  False          32.0   \n",
       "4   256.0           True         144.0        True  False          32.0   \n",
       "\n",
       "   num_rear_camera  num_front_camera  Extra_storage_supported  os_name  \\\n",
       "0                3                 1                    False  Android   \n",
       "1                3                 1                    False  Android   \n",
       "2                3                 1                    False  Android   \n",
       "3                3                 1                    False  Android   \n",
       "4                3                 1                    False  Android   \n",
       "\n",
       "   os_version    ppi  processing_power    battery_capacity_bin  \\\n",
       "0        14.0  394.0              25.0   Large (4000-5000 mAh)   \n",
       "1        14.0  446.0              27.0  Very Large (>5000 mAh)   \n",
       "2        13.0  446.0              22.0   Large (4000-5000 mAh)   \n",
       "3        14.0  451.0              25.0   Large (4000-5000 mAh)   \n",
       "4        13.0  446.0              19.0  Very Large (>5000 mAh)   \n",
       "\n",
       "          fast_charge_tier primary_camera_cat  \n",
       "0  Upper-Mid Fast (41–70W)                Mid  \n",
       "1      High Fast (71–110W)                Mid  \n",
       "2    Ultra Fast (111–150W)              Ultra  \n",
       "3      High Fast (71–110W)                Mid  \n",
       "4    Ultra Fast (111–150W)              Ultra  "
      ]
     },
     "execution_count": 18,
     "metadata": {},
     "output_type": "execute_result"
    }
   ],
   "source": [
    "df1.head()"
   ]
  },
  {
   "cell_type": "code",
   "execution_count": 19,
   "id": "0f43fcd0-502b-4c1f-ae43-4dfbb4fb3256",
   "metadata": {},
   "outputs": [
    {
     "data": {
      "text/plain": [
       "(1387, 24)"
      ]
     },
     "execution_count": 19,
     "metadata": {},
     "output_type": "execute_result"
    }
   ],
   "source": [
    "df1.shape"
   ]
  },
  {
   "cell_type": "code",
   "execution_count": 20,
   "id": "70356b57-fc1c-4650-a86f-530618e8ea06",
   "metadata": {},
   "outputs": [
    {
     "data": {
      "text/plain": [
       "0.08167626771277067"
      ]
     },
     "execution_count": 20,
     "metadata": {},
     "output_type": "execute_result"
    }
   ],
   "source": [
    "df1['rating'].var()"
   ]
  },
  {
   "cell_type": "code",
   "execution_count": 21,
   "id": "1f75c90f-b547-4fa6-a572-b8fa76c2e3dc",
   "metadata": {},
   "outputs": [
    {
     "data": {
      "text/plain": [
       "0.0354435278732319"
      ]
     },
     "execution_count": 21,
     "metadata": {},
     "output_type": "execute_result"
    }
   ],
   "source": [
    "df1['num_front_camera'].var()"
   ]
  },
  {
   "cell_type": "code",
   "execution_count": 22,
   "id": "ae44ab2f-6d21-4bae-8eea-05c84d22c79c",
   "metadata": {},
   "outputs": [
    {
     "data": {
      "text/plain": [
       "0.3362203765952901"
      ]
     },
     "execution_count": 22,
     "metadata": {},
     "output_type": "execute_result"
    }
   ],
   "source": [
    "df1['num_rear_camera'].var()"
   ]
  },
  {
   "cell_type": "code",
   "execution_count": 23,
   "id": "636f7099-1c28-4316-8149-93f7648dec57",
   "metadata": {},
   "outputs": [
    {
     "data": {
      "text/plain": [
       "12.580053288056186"
      ]
     },
     "execution_count": 23,
     "metadata": {},
     "output_type": "execute_result"
    }
   ],
   "source": [
    "df1['processing_power'].var()"
   ]
  },
  {
   "cell_type": "code",
   "execution_count": 24,
   "id": "01b1c823-f52f-48d1-a3cd-1a04ba964cdd",
   "metadata": {},
   "outputs": [
    {
     "data": {
      "text/plain": [
       "339.33304618957743"
      ]
     },
     "execution_count": 24,
     "metadata": {},
     "output_type": "execute_result"
    }
   ],
   "source": [
    "df1['refresh_rate'].var()"
   ]
  },
  {
   "cell_type": "code",
   "execution_count": 25,
   "id": "baed7436-c6c4-4114-89ea-825180b55315",
   "metadata": {},
   "outputs": [
    {
     "data": {
      "text/plain": [
       "ir_blaster\n",
       "False    0.750541\n",
       "True     0.249459\n",
       "Name: proportion, dtype: float64"
      ]
     },
     "execution_count": 25,
     "metadata": {},
     "output_type": "execute_result"
    }
   ],
   "source": [
    "df1['ir_blaster'].value_counts(normalize=True)"
   ]
  },
  {
   "cell_type": "code",
   "execution_count": 26,
   "id": "e46279f6-8411-46f3-8be9-6934bbe96433",
   "metadata": {},
   "outputs": [
    {
     "data": {
      "text/plain": [
       "0.01352072584949308"
      ]
     },
     "execution_count": 26,
     "metadata": {},
     "output_type": "execute_result"
    }
   ],
   "source": [
    "pd.set_option('display.max_rows',None)\n",
    "df1['Fast_charging'].astype('int').var()"
   ]
  },
  {
   "cell_type": "code",
   "execution_count": 27,
   "id": "559434cc-6c9a-4321-9af0-5b9b4d9bd4c7",
   "metadata": {},
   "outputs": [],
   "source": [
    "df1.drop(columns='Fast_charging',inplace=True)"
   ]
  },
  {
   "cell_type": "code",
   "execution_count": 28,
   "id": "679d76d4-bd7c-4c22-ad98-3f7f16388e35",
   "metadata": {},
   "outputs": [
    {
     "data": {
      "text/plain": [
       "0.2501427915991688"
      ]
     },
     "execution_count": 28,
     "metadata": {},
     "output_type": "execute_result"
    }
   ],
   "source": [
    "df1['Extra_storage_supported'].astype('int').var()"
   ]
  },
  {
   "cell_type": "code",
   "execution_count": 29,
   "id": "f231f571-e327-4d7d-9df7-f12a0c9ec689",
   "metadata": {},
   "outputs": [
    {
     "data": {
      "text/plain": [
       "0.15820060737147829"
      ]
     },
     "execution_count": 29,
     "metadata": {},
     "output_type": "execute_result"
    }
   ],
   "source": [
    "df1['5g'].astype('int').var()"
   ]
  },
  {
   "cell_type": "markdown",
   "id": "d12fc131-858b-4295-83ad-219e853128e5",
   "metadata": {},
   "source": [
    "#### Trainig Model after Feature Engineering"
   ]
  },
  {
   "cell_type": "code",
   "execution_count": 30,
   "id": "1dfaecee-0c83-44e2-bdd7-4e3e66cbf0da",
   "metadata": {},
   "outputs": [
    {
     "name": "stdout",
     "output_type": "stream",
     "text": [
      "                    Feature  Importance\n",
      "17                      ppi    0.343452\n",
      "18         processing_power    0.227253\n",
      "11             front_camera    0.073842\n",
      "0                     brand    0.069932\n",
      "5           processor_brand    0.044155\n",
      "15                  os_name    0.038221\n",
      "7                    memory    0.031142\n",
      "6                       ram    0.030351\n",
      "9                Punch_Hole    0.030347\n",
      "16               os_version    0.021171\n",
      "12          num_rear_camera    0.020902\n",
      "1                    rating    0.017096\n",
      "14  Extra_storage_supported    0.009155\n",
      "21       primary_camera_cat    0.007810\n",
      "20         fast_charge_tier    0.007284\n",
      "8              refresh_rate    0.006698\n",
      "3                       nfc    0.005759\n",
      "2                        5g    0.005336\n",
      "19     battery_capacity_bin    0.004762\n",
      "13         num_front_camera    0.002605\n",
      "4                ir_blaster    0.001939\n",
      "10                    Notch    0.000787\n"
     ]
    },
    {
     "data": {
      "image/png": "[encoded data removed]",
      "text/plain": [
       "<Figure size 1000x600 with 1 Axes>"
      ]
     },
     "metadata": {},
     "output_type": "display_data"
    }
   ],
   "source": [
    "from sklearn.ensemble import RandomForestRegressor\n",
    "from sklearn.preprocessing import LabelEncoder\n",
    "import matplotlib.pyplot as plt\n",
    "\n",
    "# Copy of dataframe\n",
    "df2 = df1.copy()\n",
    "\n",
    "# Separate features and target\n",
    "X = df2.drop('price', axis=1)\n",
    "y = df2['price']\n",
    "\n",
    "# Encode categorical columns\n",
    "for col in X.select_dtypes(include=['object', 'category']).columns:\n",
    "    X[col] = LabelEncoder().fit_transform(X[col])\n",
    "\n",
    "# Initialize Random Forest Regressor\n",
    "rf = RandomForestRegressor(n_estimators=500, random_state=42)\n",
    "\n",
    "# Fit model\n",
    "rf.fit(X, y)\n",
    "\n",
    "# Get feature importances\n",
    "importances = rf.feature_importances_\n",
    "feature_names = X.columns\n",
    "\n",
    "# Create a dataframe of feature importances\n",
    "feat_importance_df = pd.DataFrame({'Feature': feature_names, 'Importance': importances})\n",
    "feat_importance_df = feat_importance_df.sort_values(by='Importance', ascending=False)\n",
    "\n",
    "# Display feature importances\n",
    "print(feat_importance_df)\n",
    "\n",
    "# Optional: plot feature importances\n",
    "plt.figure(figsize=(10,6))\n",
    "plt.barh(feat_importance_df['Feature'], feat_importance_df['Importance'])\n",
    "plt.gca().invert_yaxis()\n",
    "plt.xlabel('Importance')\n",
    "plt.title('Feature Importance for Price Prediction')\n",
    "plt.show()\n"
   ]
  },
  {
   "cell_type": "code",
   "execution_count": 31,
   "id": "a3f43873-a396-47f0-9d24-a12f38c18373",
   "metadata": {},
   "outputs": [
    {
     "data": {
      "text/plain": [
       "ppi\n",
       "395.0    168\n",
       "400.0     83\n",
       "394.0     66\n",
       "396.0     63\n",
       "409.0     60\n",
       "405.0     59\n",
       "401.0     49\n",
       "388.0     48\n",
       "393.0     45\n",
       "402.0     44\n",
       "270.0     39\n",
       "398.0     38\n",
       "411.0     38\n",
       "392.0     36\n",
       "399.0     33\n",
       "526.0     32\n",
       "269.0     26\n",
       "453.0     24\n",
       "267.0     22\n",
       "403.0     21\n",
       "387.0     21\n",
       "446.0     19\n",
       "451.0     18\n",
       "518.0     17\n",
       "390.0     17\n",
       "260.0     15\n",
       "407.0     15\n",
       "391.0     10\n",
       "413.0     10\n",
       "386.0      9\n",
       "360.0      9\n",
       "460.0      9\n",
       "521.0      9\n",
       "457.0      8\n",
       "431.0      8\n",
       "266.0      8\n",
       "426.0      7\n",
       "461.0      6\n",
       "422.0      6\n",
       "500.0      6\n",
       "410.0      6\n",
       "373.0      6\n",
       "385.0      5\n",
       "263.0      5\n",
       "436.0      5\n",
       "389.0      5\n",
       "450.0      5\n",
       "516.0      4\n",
       "523.0      4\n",
       "643.0      4\n",
       "352.0      4\n",
       "424.0      4\n",
       "418.0      4\n",
       "510.0      4\n",
       "370.0      4\n",
       "456.0      4\n",
       "458.0      3\n",
       "506.0      3\n",
       "449.0      3\n",
       "406.0      3\n",
       "515.0      3\n",
       "501.0      3\n",
       "404.0      3\n",
       "524.0      2\n",
       "512.0      2\n",
       "274.0      2\n",
       "420.0      2\n",
       "419.0      2\n",
       "525.0      2\n",
       "414.0      2\n",
       "429.0      2\n",
       "372.0      2\n",
       "566.0      2\n",
       "257.0      2\n",
       "513.0      2\n",
       "437.0      2\n",
       "532.0      2\n",
       "550.0      2\n",
       "511.0      2\n",
       "546.0      2\n",
       "522.0      2\n",
       "490.0      2\n",
       "408.0      2\n",
       "423.0      1\n",
       "468.0      1\n",
       "378.0      1\n",
       "478.0      1\n",
       "568.0      1\n",
       "452.0      1\n",
       "439.0      1\n",
       "454.0      1\n",
       "347.0      1\n",
       "362.0      1\n",
       "430.0      1\n",
       "519.0      1\n",
       "425.0      1\n",
       "486.0      1\n",
       "447.0      1\n",
       "444.0      1\n",
       "371.0      1\n",
       "459.0      1\n",
       "633.0      1\n",
       "571.0      1\n",
       "455.0      1\n",
       "544.0      1\n",
       "548.0      1\n",
       "354.0      1\n",
       "336.0      1\n",
       "448.0      1\n",
       "271.0      1\n",
       "438.0      1\n",
       "384.0      1\n",
       "445.0      1\n",
       "440.0      1\n",
       "441.0      1\n",
       "Name: count, dtype: int64"
      ]
     },
     "execution_count": 31,
     "metadata": {},
     "output_type": "execute_result"
    }
   ],
   "source": [
    "df1['ppi'].value_counts()"
   ]
  },
  {
   "cell_type": "code",
   "execution_count": 32,
   "id": "8fcf8f06-44c2-44fd-a27d-254133540000",
   "metadata": {},
   "outputs": [
    {
     "name": "stdout",
     "output_type": "stream",
     "text": [
      "ppi_bin\n",
      "Medium        942\n",
      "Very Low      127\n",
      "Ultra High    109\n",
      "High           92\n",
      "Very High      87\n",
      "Low            30\n",
      "Name: count, dtype: int64\n"
     ]
    }
   ],
   "source": [
    "import pandas as pd\n",
    "\n",
    "# Define bins and labels\n",
    "bins = [0, 359, 385, 411, 450, 500, float('inf')]\n",
    "labels = ['Very Low', 'Low', 'Medium', 'High', 'Very High', 'Ultra High']\n",
    "\n",
    "# Create new binned column\n",
    "df1['ppi_bin'] = pd.cut(df1['ppi'], bins=bins, labels=labels)\n",
    "\n",
    "# Check counts\n",
    "print(df1['ppi_bin'].value_counts())\n",
    "\n"
   ]
  },
  {
   "cell_type": "code",
   "execution_count": 33,
   "id": "adf42cfb-0683-435f-91bc-b2cdbf8d316e",
   "metadata": {},
   "outputs": [
    {
     "name": "stdout",
     "output_type": "stream",
     "text": [
      "category\n"
     ]
    }
   ],
   "source": [
    "# Ensure ppi_bin is categorical\n",
    "df1['ppi_bin'] = df1['ppi_bin'].astype('category')\n",
    "\n",
    "# Verify\n",
    "print(df1['ppi_bin'].dtype)\n"
   ]
  },
  {
   "cell_type": "code",
   "execution_count": 34,
   "id": "7729c306-6890-4118-84c7-6fe3a365aa0a",
   "metadata": {},
   "outputs": [],
   "source": [
    "df1.drop(columns='ppi',inplace =True)"
   ]
  },
  {
   "cell_type": "code",
   "execution_count": 35,
   "id": "596b13b2-b11f-4edb-bcbd-ae407789d00a",
   "metadata": {},
   "outputs": [
    {
     "name": "stdout",
     "output_type": "stream",
     "text": [
      "<class 'pandas.core.frame.DataFrame'>\n",
      "RangeIndex: 1387 entries, 0 to 1386\n",
      "Data columns (total 23 columns):\n",
      " #   Column                   Non-Null Count  Dtype   \n",
      "---  ------                   --------------  -----   \n",
      " 0   brand                    1387 non-null   object  \n",
      " 1   price                    1387 non-null   int64   \n",
      " 2   rating                   1387 non-null   float64 \n",
      " 3   5g                       1387 non-null   bool    \n",
      " 4   nfc                      1387 non-null   bool    \n",
      " 5   ir_blaster               1387 non-null   bool    \n",
      " 6   processor_brand          1387 non-null   object  \n",
      " 7   ram                      1387 non-null   float64 \n",
      " 8   memory                   1387 non-null   float64 \n",
      " 9   refresh_rate             1387 non-null   float64 \n",
      " 10  Punch_Hole               1387 non-null   bool    \n",
      " 11  Notch                    1387 non-null   bool    \n",
      " 12  front_camera             1387 non-null   float64 \n",
      " 13  num_rear_camera          1387 non-null   int64   \n",
      " 14  num_front_camera         1387 non-null   int64   \n",
      " 15  Extra_storage_supported  1387 non-null   bool    \n",
      " 16  os_name                  1387 non-null   object  \n",
      " 17  os_version               1387 non-null   float64 \n",
      " 18  processing_power         1387 non-null   float64 \n",
      " 19  battery_capacity_bin     1387 non-null   category\n",
      " 20  fast_charge_tier         1387 non-null   object  \n",
      " 21  primary_camera_cat       1387 non-null   category\n",
      " 22  ppi_bin                  1387 non-null   category\n",
      "dtypes: bool(6), category(3), float64(7), int64(3), object(4)\n",
      "memory usage: 164.6+ KB\n"
     ]
    }
   ],
   "source": [
    "df1.info()"
   ]
  },
  {
   "cell_type": "code",
   "execution_count": 36,
   "id": "54fe1462-f167-4bbb-84da-a9fe7bd289f8",
   "metadata": {},
   "outputs": [
    {
     "data": {
      "text/plain": [
       "rating\n",
       "4.150000    104\n",
       "4.200000    102\n",
       "4.000000     87\n",
       "4.250000     83\n",
       "4.050000     82\n",
       "4.100000     80\n",
       "4.450000     80\n",
       "4.300000     77\n",
       "4.400000     71\n",
       "4.350000     68\n",
       "4.550000     65\n",
       "4.650000     53\n",
       "4.700000     51\n",
       "4.750000     49\n",
       "4.600000     46\n",
       "4.500000     46\n",
       "3.950000     38\n",
       "3.750000     31\n",
       "3.850000     24\n",
       "3.900000     21\n",
       "3.800000     21\n",
       "3.700000     16\n",
       "4.252484     12\n",
       "4.274806      9\n",
       "3.550000      9\n",
       "3.650000      7\n",
       "4.255376      7\n",
       "4.246237      6\n",
       "3.600000      5\n",
       "4.288415      4\n",
       "4.218391      4\n",
       "4.313636      3\n",
       "3.500000      3\n",
       "3.350000      3\n",
       "3.450000      3\n",
       "4.280556      2\n",
       "3.250000      2\n",
       "4.200000      2\n",
       "3.150000      2\n",
       "4.159375      2\n",
       "4.292188      2\n",
       "4.429412      1\n",
       "3.400000      1\n",
       "3.200000      1\n",
       "3.300000      1\n",
       "3.100000      1\n",
       "Name: count, dtype: int64"
      ]
     },
     "execution_count": 36,
     "metadata": {},
     "output_type": "execute_result"
    }
   ],
   "source": [
    "df1['rating'].value_counts()"
   ]
  },
  {
   "cell_type": "code",
   "execution_count": 37,
   "id": "9e38b2f3-51f1-447d-a95c-222e2e976e84",
   "metadata": {},
   "outputs": [
    {
     "name": "stdout",
     "output_type": "stream",
     "text": [
      "rating_bin\n",
      "High         558\n",
      "Very High    391\n",
      "Medium       332\n",
      "Low           92\n",
      "Very Low      14\n",
      "Name: count, dtype: int64\n"
     ]
    }
   ],
   "source": [
    "import pandas as pd\n",
    "\n",
    "# Define a binning function\n",
    "def bin_rating(x):\n",
    "    if x < 3.5:\n",
    "        return 'Very Low'\n",
    "    elif 3.5 <= x <= 3.8:\n",
    "        return 'Low'\n",
    "    elif 3.81 <= x <= 4.1:\n",
    "        return 'Medium'\n",
    "    elif 4.11 <= x <= 4.4:\n",
    "        return 'High'\n",
    "    else:  # x > 4.4\n",
    "        return 'Very High'\n",
    "\n",
    "# Apply the function\n",
    "df1['rating_bin'] = df1['rating'].apply(bin_rating)\n",
    "\n",
    "# Convert to categorical\n",
    "df1['rating_bin'] = df1['rating_bin'].astype('category')\n",
    "\n",
    "# Check counts\n",
    "print(df1['rating_bin'].value_counts())\n"
   ]
  },
  {
   "cell_type": "code",
   "execution_count": 38,
   "id": "2d3c347a-5492-4b10-b5ce-844ca8f6d068",
   "metadata": {},
   "outputs": [
    {
     "data": {
      "text/plain": [
       "refresh_rate\n",
       "120.0    816\n",
       "90.0     415\n",
       "144.0    120\n",
       "165.0     35\n",
       "60.0       1\n",
       "Name: count, dtype: int64"
      ]
     },
     "execution_count": 38,
     "metadata": {},
     "output_type": "execute_result"
    }
   ],
   "source": [
    "df1['refresh_rate'].value_counts()"
   ]
  },
  {
   "cell_type": "code",
   "execution_count": 39,
   "id": "22b180c9-6844-43da-8f65-805ffb9f8d32",
   "metadata": {},
   "outputs": [
    {
     "data": {
      "text/plain": [
       "ram\n",
       "8.0     636\n",
       "6.0     277\n",
       "12.0    268\n",
       "4.0     157\n",
       "16.0     37\n",
       "3.0       6\n",
       "18.0      5\n",
       "24.0      1\n",
       "Name: count, dtype: int64"
      ]
     },
     "execution_count": 39,
     "metadata": {},
     "output_type": "execute_result"
    }
   ],
   "source": [
    "df1['ram'].value_counts()"
   ]
  },
  {
   "cell_type": "code",
   "execution_count": 40,
   "id": "0819a0ad-ac90-4ab5-9c52-a7b6ff4290d3",
   "metadata": {},
   "outputs": [
    {
     "data": {
      "text/plain": [
       "memory\n",
       "128.0     762\n",
       "256.0     445\n",
       "64.0      117\n",
       "512.0      48\n",
       "1024.0     11\n",
       "32.0        4\n",
       "Name: count, dtype: int64"
      ]
     },
     "execution_count": 40,
     "metadata": {},
     "output_type": "execute_result"
    }
   ],
   "source": [
    "df1['memory'].value_counts()"
   ]
  },
  {
   "cell_type": "code",
   "execution_count": 41,
   "id": "17abedc8-81a9-43cf-9a1d-ebcc9f999a2b",
   "metadata": {},
   "outputs": [
    {
     "data": {
      "text/plain": [
       "processing_power\n",
       "18.0    284\n",
       "26.0    243\n",
       "19.0    238\n",
       "16.0    119\n",
       "24.0    117\n",
       "23.0    115\n",
       "21.0     81\n",
       "22.0     60\n",
       "20.0     45\n",
       "25.0     24\n",
       "27.0     22\n",
       "14.0     14\n",
       "13.0     12\n",
       "28.0      5\n",
       "15.0      4\n",
       "17.0      3\n",
       "35.0      1\n",
       "Name: count, dtype: int64"
      ]
     },
     "execution_count": 41,
     "metadata": {},
     "output_type": "execute_result"
    }
   ],
   "source": [
    "df1['processing_power'].value_counts()"
   ]
  },
  {
   "cell_type": "code",
   "execution_count": 42,
   "id": "1605853b-ca4f-43a9-88c9-c2d2ece14fdf",
   "metadata": {},
   "outputs": [
    {
     "name": "stdout",
     "output_type": "stream",
     "text": [
      "processing_power_bin\n",
      "Low          644\n",
      "High         384\n",
      "Medium       301\n",
      "Very Low      30\n",
      "Very High     28\n",
      "Name: count, dtype: int64\n"
     ]
    }
   ],
   "source": [
    "# Define binning function\n",
    "def bin_processing_power(x):\n",
    "    if x <= 15:\n",
    "        return 'Very Low'\n",
    "    elif 16 <= x <= 19:\n",
    "        return 'Low'\n",
    "    elif 20 <= x <= 23:\n",
    "        return 'Medium'\n",
    "    elif 24 <= x <= 26:\n",
    "        return 'High'\n",
    "    else:  # x >= 27\n",
    "        return 'Very High'\n",
    "\n",
    "# Apply to dataframe\n",
    "df1['processing_power_bin'] = df1['processing_power'].apply(bin_processing_power)\n",
    "\n",
    "# Convert to categorical\n",
    "df1['processing_power_bin'] = df1['processing_power_bin'].astype('category')\n",
    "\n",
    "# Check counts\n",
    "print(df1['processing_power_bin'].value_counts())\n"
   ]
  },
  {
   "cell_type": "code",
   "execution_count": 43,
   "id": "12602d89-6cc7-4f0f-b56f-41010b8d135d",
   "metadata": {},
   "outputs": [],
   "source": [
    "df1.drop(columns=['rating','processing_power'],inplace =True)"
   ]
  },
  {
   "cell_type": "code",
   "execution_count": 44,
   "id": "fe60db57-4c3f-4d06-a6a0-79c86e479ac8",
   "metadata": {},
   "outputs": [],
   "source": [
    "def bin_front_camera(x):\n",
    "    if x <= 8:\n",
    "        return 'Low'\n",
    "    elif 8 < x <= 12:\n",
    "        return 'Medium'\n",
    "    elif 12 < x <= 24:\n",
    "        return 'High'\n",
    "    else:  # >24\n",
    "        return 'Very High'\n",
    "\n",
    "df1['front_camera_bin'] = df1['front_camera'].apply(bin_front_camera).astype('category')\n"
   ]
  },
  {
   "cell_type": "code",
   "execution_count": 45,
   "id": "b0a5eafc-73f0-4113-b3eb-6ea633a6fadb",
   "metadata": {},
   "outputs": [],
   "source": [
    "df1.drop(columns=['front_camera'],inplace =True)"
   ]
  },
  {
   "cell_type": "code",
   "execution_count": 46,
   "id": "c8f51178-a9e6-4a2d-b5a8-5d4b8dcc1774",
   "metadata": {},
   "outputs": [],
   "source": [
    "df2=df1.copy()"
   ]
  },
  {
   "cell_type": "code",
   "execution_count": 47,
   "id": "14ecfb6e-e7b7-4a19-9ab8-5b5827b71bb0",
   "metadata": {},
   "outputs": [],
   "source": [
    "bool_cols = ['5g','nfc','ir_blaster','Punch_Hole','Notch','Extra_storage_supported']\n",
    "df1[bool_cols] = df1[bool_cols].astype(int)\n"
   ]
  },
  {
   "cell_type": "code",
   "execution_count": 48,
   "id": "50baee02-7401-4730-8fe3-f279258138ff",
   "metadata": {},
   "outputs": [],
   "source": [
    "from sklearn.preprocessing import LabelEncoder\n",
    "\n",
    "cat_cols = ['battery_capacity_bin','primary_camera_cat','ppi_bin','rating_bin','processing_power_bin','front_camera_bin']\n",
    "for col in cat_cols:\n",
    "    df1[col] = LabelEncoder().fit_transform(df1[col])\n"
   ]
  },
  {
   "cell_type": "code",
   "execution_count": 49,
   "id": "b14a6a68-ed25-491b-9973-3d795b946684",
   "metadata": {},
   "outputs": [],
   "source": [
    "obj_cols = ['brand','processor_brand','os_name','fast_charge_tier']\n",
    "for col in obj_cols:\n",
    "    df1[col] = LabelEncoder().fit_transform(df1[col])\n"
   ]
  },
  {
   "cell_type": "code",
   "execution_count": 50,
   "id": "3614a5db-1dfa-4bc1-81dd-8c067a0ed967",
   "metadata": {},
   "outputs": [
    {
     "data": {
      "text/html": [
       "<div>\n",
       "<style scoped>\n",
       "    .dataframe tbody tr th:only-of-type {\n",
       "        vertical-align: middle;\n",
       "    }\n",
       "\n",
       "    .dataframe tbody tr th {\n",
       "        vertical-align: top;\n",
       "    }\n",
       "\n",
       "    .dataframe thead th {\n",
       "        text-align: right;\n",
       "    }\n",
       "</style>\n",
       "<table border=\"1\" class=\"dataframe\">\n",
       "  <thead>\n",
       "    <tr style=\"text-align: right;\">\n",
       "      <th></th>\n",
       "      <th>brand</th>\n",
       "      <th>price</th>\n",
       "      <th>5g</th>\n",
       "      <th>nfc</th>\n",
       "      <th>ir_blaster</th>\n",
       "      <th>processor_brand</th>\n",
       "      <th>ram</th>\n",
       "      <th>memory</th>\n",
       "      <th>refresh_rate</th>\n",
       "      <th>Punch_Hole</th>\n",
       "      <th>Notch</th>\n",
       "      <th>num_rear_camera</th>\n",
       "      <th>num_front_camera</th>\n",
       "      <th>Extra_storage_supported</th>\n",
       "      <th>os_name</th>\n",
       "      <th>os_version</th>\n",
       "      <th>battery_capacity_bin</th>\n",
       "      <th>fast_charge_tier</th>\n",
       "      <th>primary_camera_cat</th>\n",
       "      <th>ppi_bin</th>\n",
       "      <th>rating_bin</th>\n",
       "      <th>processing_power_bin</th>\n",
       "      <th>front_camera_bin</th>\n",
       "    </tr>\n",
       "  </thead>\n",
       "  <tbody>\n",
       "    <tr>\n",
       "      <th>0</th>\n",
       "      <td>14</td>\n",
       "      <td>29990</td>\n",
       "      <td>1</td>\n",
       "      <td>1</td>\n",
       "      <td>1</td>\n",
       "      <td>1</td>\n",
       "      <td>8.0</td>\n",
       "      <td>256.0</td>\n",
       "      <td>120.0</td>\n",
       "      <td>1</td>\n",
       "      <td>0</td>\n",
       "      <td>3</td>\n",
       "      <td>1</td>\n",
       "      <td>0</td>\n",
       "      <td>0</td>\n",
       "      <td>14.0</td>\n",
       "      <td>0</td>\n",
       "      <td>5</td>\n",
       "      <td>2</td>\n",
       "      <td>2</td>\n",
       "      <td>3</td>\n",
       "      <td>0</td>\n",
       "      <td>3</td>\n",
       "    </tr>\n",
       "    <tr>\n",
       "      <th>1</th>\n",
       "      <td>16</td>\n",
       "      <td>19999</td>\n",
       "      <td>1</td>\n",
       "      <td>1</td>\n",
       "      <td>1</td>\n",
       "      <td>1</td>\n",
       "      <td>12.0</td>\n",
       "      <td>256.0</td>\n",
       "      <td>120.0</td>\n",
       "      <td>1</td>\n",
       "      <td>0</td>\n",
       "      <td>3</td>\n",
       "      <td>1</td>\n",
       "      <td>0</td>\n",
       "      <td>0</td>\n",
       "      <td>14.0</td>\n",
       "      <td>2</td>\n",
       "      <td>1</td>\n",
       "      <td>2</td>\n",
       "      <td>0</td>\n",
       "      <td>3</td>\n",
       "      <td>3</td>\n",
       "      <td>0</td>\n",
       "    </tr>\n",
       "    <tr>\n",
       "      <th>2</th>\n",
       "      <td>22</td>\n",
       "      <td>31999</td>\n",
       "      <td>1</td>\n",
       "      <td>1</td>\n",
       "      <td>1</td>\n",
       "      <td>1</td>\n",
       "      <td>8.0</td>\n",
       "      <td>256.0</td>\n",
       "      <td>120.0</td>\n",
       "      <td>1</td>\n",
       "      <td>0</td>\n",
       "      <td>3</td>\n",
       "      <td>1</td>\n",
       "      <td>0</td>\n",
       "      <td>0</td>\n",
       "      <td>13.0</td>\n",
       "      <td>0</td>\n",
       "      <td>4</td>\n",
       "      <td>4</td>\n",
       "      <td>0</td>\n",
       "      <td>0</td>\n",
       "      <td>2</td>\n",
       "      <td>0</td>\n",
       "    </tr>\n",
       "    <tr>\n",
       "      <th>3</th>\n",
       "      <td>14</td>\n",
       "      <td>40990</td>\n",
       "      <td>1</td>\n",
       "      <td>1</td>\n",
       "      <td>1</td>\n",
       "      <td>1</td>\n",
       "      <td>12.0</td>\n",
       "      <td>256.0</td>\n",
       "      <td>120.0</td>\n",
       "      <td>1</td>\n",
       "      <td>0</td>\n",
       "      <td>3</td>\n",
       "      <td>1</td>\n",
       "      <td>0</td>\n",
       "      <td>0</td>\n",
       "      <td>14.0</td>\n",
       "      <td>0</td>\n",
       "      <td>1</td>\n",
       "      <td>2</td>\n",
       "      <td>4</td>\n",
       "      <td>3</td>\n",
       "      <td>0</td>\n",
       "      <td>3</td>\n",
       "    </tr>\n",
       "    <tr>\n",
       "      <th>4</th>\n",
       "      <td>22</td>\n",
       "      <td>33999</td>\n",
       "      <td>1</td>\n",
       "      <td>1</td>\n",
       "      <td>1</td>\n",
       "      <td>5</td>\n",
       "      <td>12.0</td>\n",
       "      <td>256.0</td>\n",
       "      <td>144.0</td>\n",
       "      <td>1</td>\n",
       "      <td>0</td>\n",
       "      <td>3</td>\n",
       "      <td>1</td>\n",
       "      <td>0</td>\n",
       "      <td>0</td>\n",
       "      <td>13.0</td>\n",
       "      <td>2</td>\n",
       "      <td>4</td>\n",
       "      <td>4</td>\n",
       "      <td>0</td>\n",
       "      <td>2</td>\n",
       "      <td>1</td>\n",
       "      <td>3</td>\n",
       "    </tr>\n",
       "  </tbody>\n",
       "</table>\n",
       "</div>"
      ],
      "text/plain": [
       "   brand  price  5g  nfc  ir_blaster  processor_brand   ram  memory  \\\n",
       "0     14  29990   1    1           1                1   8.0   256.0   \n",
       "1     16  19999   1    1           1                1  12.0   256.0   \n",
       "2     22  31999   1    1           1                1   8.0   256.0   \n",
       "3     14  40990   1    1           1                1  12.0   256.0   \n",
       "4     22  33999   1    1           1                5  12.0   256.0   \n",
       "\n",
       "   refresh_rate  Punch_Hole  Notch  num_rear_camera  num_front_camera  \\\n",
       "0         120.0           1      0                3                 1   \n",
       "1         120.0           1      0                3                 1   \n",
       "2         120.0           1      0                3                 1   \n",
       "3         120.0           1      0                3                 1   \n",
       "4         144.0           1      0                3                 1   \n",
       "\n",
       "   Extra_storage_supported  os_name  os_version  battery_capacity_bin  \\\n",
       "0                        0        0        14.0                     0   \n",
       "1                        0        0        14.0                     2   \n",
       "2                        0        0        13.0                     0   \n",
       "3                        0        0        14.0                     0   \n",
       "4                        0        0        13.0                     2   \n",
       "\n",
       "   fast_charge_tier  primary_camera_cat  ppi_bin  rating_bin  \\\n",
       "0                 5                   2        2           3   \n",
       "1                 1                   2        0           3   \n",
       "2                 4                   4        0           0   \n",
       "3                 1                   2        4           3   \n",
       "4                 4                   4        0           2   \n",
       "\n",
       "   processing_power_bin  front_camera_bin  \n",
       "0                     0                 3  \n",
       "1                     3                 0  \n",
       "2                     2                 0  \n",
       "3                     0                 3  \n",
       "4                     1                 3  "
      ]
     },
     "execution_count": 50,
     "metadata": {},
     "output_type": "execute_result"
    }
   ],
   "source": [
    "df1.head()"
   ]
  },
  {
   "cell_type": "code",
   "execution_count": 51,
   "id": "f77cb343-0f82-4b68-b10f-def323dcbfbe",
   "metadata": {},
   "outputs": [
    {
     "name": "stdout",
     "output_type": "stream",
     "text": [
      "                    Feature  Importance\n",
      "5                       ram    0.161830\n",
      "0                     brand    0.151594\n",
      "4           processor_brand    0.117101\n",
      "12  Extra_storage_supported    0.114431\n",
      "21         front_camera_bin    0.083489\n",
      "13                  os_name    0.060721\n",
      "6                    memory    0.050389\n",
      "18                  ppi_bin    0.043075\n",
      "11         num_front_camera    0.043013\n",
      "20     processing_power_bin    0.035153\n",
      "10          num_rear_camera    0.029895\n",
      "2                       nfc    0.022326\n",
      "14               os_version    0.019634\n",
      "16         fast_charge_tier    0.012430\n",
      "8                Punch_Hole    0.012095\n",
      "19               rating_bin    0.008965\n",
      "7              refresh_rate    0.008808\n",
      "17       primary_camera_cat    0.007672\n",
      "15     battery_capacity_bin    0.006329\n",
      "3                ir_blaster    0.005197\n",
      "1                        5g    0.005083\n",
      "9                     Notch    0.000769\n"
     ]
    },
    {
     "data": {
      "image/png": "[encoded data removed]",
      "text/plain": [
       "<Figure size 1000x600 with 1 Axes>"
      ]
     },
     "metadata": {},
     "output_type": "display_data"
    }
   ],
   "source": [
    "from sklearn.ensemble import RandomForestRegressor\n",
    "from sklearn.preprocessing import LabelEncoder\n",
    "import matplotlib.pyplot as plt\n",
    "\n",
    "# Separate features and target\n",
    "X = df1.drop('price', axis=1)\n",
    "y = df1['price']\n",
    "# Initialize Random Forest Regressor\n",
    "rf = RandomForestRegressor(n_estimators=500, random_state=42)\n",
    "\n",
    "# Fit model\n",
    "rf.fit(X, y)\n",
    "\n",
    "# Get feature importances\n",
    "importances = rf.feature_importances_\n",
    "feature_names = X.columns\n",
    "\n",
    "# Create a dataframe of feature importances\n",
    "feat_importance_df = pd.DataFrame({'Feature': feature_names, 'Importance': importances})\n",
    "feat_importance_df = feat_importance_df.sort_values(by='Importance', ascending=False)\n",
    "\n",
    "# Display feature importances\n",
    "print(feat_importance_df)\n",
    "\n",
    "# Optional: plot feature importances\n",
    "plt.figure(figsize=(10,6))\n",
    "plt.barh(feat_importance_df['Feature'], feat_importance_df['Importance'])\n",
    "plt.gca().invert_yaxis()\n",
    "plt.xlabel('Importance')\n",
    "plt.title('Feature Importance for Price Prediction')\n",
    "plt.show()\n"
   ]
  },
  {
   "cell_type": "code",
   "execution_count": 52,
   "id": "6184e11b-f2f6-4dcf-9163-2f27b2a7be4e",
   "metadata": {},
   "outputs": [
    {
     "name": "stdout",
     "output_type": "stream",
     "text": [
      "price                      1.000000\n",
      "memory                     0.605171\n",
      "ram                        0.503460\n",
      "nfc                        0.487714\n",
      "refresh_rate               0.406845\n",
      "os_name                    0.403502\n",
      "os_version                 0.352372\n",
      "front_camera_bin           0.340546\n",
      "5g                         0.321597\n",
      "num_front_camera           0.284446\n",
      "num_rear_camera            0.210070\n",
      "primary_camera_cat         0.120973\n",
      "fast_charge_tier           0.099054\n",
      "processor_brand            0.073043\n",
      "battery_capacity_bin       0.042578\n",
      "ppi_bin                    0.001797\n",
      "Punch_Hole                -0.039483\n",
      "ir_blaster                -0.052695\n",
      "rating_bin                -0.090195\n",
      "processing_power_bin      -0.097986\n",
      "Notch                     -0.216487\n",
      "brand                     -0.237489\n",
      "Extra_storage_supported   -0.508734\n",
      "Name: price, dtype: float64\n"
     ]
    }
   ],
   "source": [
    "corr_matrix = df1.corr()\n",
    "corr_with_target = corr_matrix['price'].sort_values(ascending=False)\n",
    "print(corr_with_target)\n"
   ]
  },
  {
   "cell_type": "code",
   "execution_count": 111,
   "id": "5ab9975c-4602-4add-9af8-caefabff792a",
   "metadata": {},
   "outputs": [
    {
     "name": "stdout",
     "output_type": "stream",
     "text": [
      "<class 'pandas.core.frame.DataFrame'>\n",
      "RangeIndex: 1387 entries, 0 to 1386\n",
      "Data columns (total 23 columns):\n",
      " #   Column                   Non-Null Count  Dtype   \n",
      "---  ------                   --------------  -----   \n",
      " 0   brand                    1387 non-null   object  \n",
      " 1   price                    1387 non-null   int64   \n",
      " 2   5g                       1387 non-null   bool    \n",
      " 3   nfc                      1387 non-null   bool    \n",
      " 4   ir_blaster               1387 non-null   bool    \n",
      " 5   processor_brand          1387 non-null   object  \n",
      " 6   ram                      1387 non-null   float64 \n",
      " 7   memory                   1387 non-null   float64 \n",
      " 8   refresh_rate             1387 non-null   float64 \n",
      " 9   Punch_Hole               1387 non-null   bool    \n",
      " 10  Notch                    1387 non-null   bool    \n",
      " 11  num_rear_camera          1387 non-null   int64   \n",
      " 12  num_front_camera         1387 non-null   int64   \n",
      " 13  Extra_storage_supported  1387 non-null   bool    \n",
      " 14  os_name                  1387 non-null   object  \n",
      " 15  os_version               1387 non-null   float64 \n",
      " 16  battery_capacity_bin     1387 non-null   category\n",
      " 17  fast_charge_tier         1387 non-null   object  \n",
      " 18  primary_camera_cat       1387 non-null   category\n",
      " 19  ppi_bin                  1387 non-null   category\n",
      " 20  rating_bin               1387 non-null   category\n",
      " 21  processing_power_bin     1387 non-null   category\n",
      " 22  front_camera_bin         1387 non-null   category\n",
      "dtypes: bool(6), category(6), float64(4), int64(3), object(4)\n",
      "memory usage: 136.8+ KB\n"
     ]
    }
   ],
   "source": [
    "df2.info()"
   ]
  },
  {
   "cell_type": "code",
   "execution_count": 127,
   "id": "629051e2-6e25-4fb6-b683-d9ec31a3e0af",
   "metadata": {},
   "outputs": [
    {
     "name": "stdout",
     "output_type": "stream",
     "text": [
      "RMSE: 8546.09\n",
      "R2 Score: 0.9200\n",
      "                    Feature  Importance\n",
      "10  Extra_storage_supported    0.408778\n",
      "7                       nfc    0.104261\n",
      "13                  os_name    0.097179\n",
      "12         front_camera_bin    0.073748\n",
      "14                    brand    0.044481\n",
      "6                        5g    0.042661\n",
      "11     processing_power_bin    0.041859\n",
      "1                    memory    0.036963\n",
      "15          processor_brand    0.032979\n",
      "0                       ram    0.029025\n",
      "4          num_front_camera    0.023183\n",
      "9                Punch_Hole    0.013591\n",
      "16         fast_charge_tier    0.013216\n",
      "3           num_rear_camera    0.011689\n",
      "2              refresh_rate    0.011399\n",
      "5                os_version    0.007605\n",
      "8                ir_blaster    0.007382\n",
      "price                      1.000000\n",
      "brand                      0.651665\n",
      "processor_brand            0.606852\n",
      "memory                     0.605171\n",
      "ram                        0.503460\n",
      "nfc                        0.487714\n",
      "refresh_rate               0.406845\n",
      "os_name                    0.403502\n",
      "os_version                 0.352372\n",
      "fast_charge_tier           0.344019\n",
      "front_camera_bin           0.340546\n",
      "5g                         0.321597\n",
      "num_front_camera           0.284446\n",
      "num_rear_camera            0.210070\n",
      "Punch_Hole                -0.039483\n",
      "ir_blaster                -0.052695\n",
      "processing_power_bin      -0.097986\n",
      "Extra_storage_supported   -0.508734\n",
      "Name: price, dtype: float64\n"
     ]
    }
   ],
   "source": [
    "import pandas as pd\n",
    "import numpy as np\n",
    "from sklearn.preprocessing import LabelEncoder\n",
    "from sklearn.model_selection import train_test_split\n",
    "from xgboost import XGBRegressor\n",
    "from sklearn.metrics import mean_squared_error, r2_score\n",
    "\n",
    "# Copy dataframe\n",
    "df = df2.copy()\n",
    "\n",
    "# -----------------------\n",
    "# Boolean encoding\n",
    "# -----------------------\n",
    "bool_cols = ['5g','nfc','ir_blaster','Punch_Hole','Notch','Extra_storage_supported']\n",
    "for col in bool_cols:\n",
    "    df[col] = df[col].astype(int)\n",
    "\n",
    "# -----------------------\n",
    "# Category / Binned features encoding\n",
    "# -----------------------\n",
    "cat_label_cols = ['processing_power_bin','front_camera_bin','rating_bin','ppi_bin','primary_camera_cat','battery_capacity_bin','os_name']\n",
    "for col in cat_label_cols:\n",
    "    df[col] = LabelEncoder().fit_transform(df[col])\n",
    "\n",
    "# -----------------------\n",
    "# Target encoding for high-cardinality object features\n",
    "# -----------------------\n",
    "target_cols = ['brand','processor_brand','fast_charge_tier']\n",
    "for col in target_cols:\n",
    "    df[col] = df.groupby(col)['price'].transform('mean')\n",
    "\n",
    "# -----------------------\n",
    "# Define X and y\n",
    "# -----------------------\n",
    "features = [\n",
    "    'ram','memory','refresh_rate','num_rear_camera','num_front_camera',\n",
    "    'os_version','5g','nfc','ir_blaster','Punch_Hole','Extra_storage_supported',\n",
    "    'processing_power_bin','front_camera_bin',\n",
    "    'os_name','brand','processor_brand','fast_charge_tier'\n",
    "]\n",
    "\n",
    "X = df[features]\n",
    "y = np.log(df['price'])\n",
    "\n",
    "# -----------------------\n",
    "# Train-test split\n",
    "# -----------------------\n",
    "X_train, X_test, y_train, y_test = train_test_split(X, y, test_size=0.2, random_state=42)\n",
    "\n",
    "# -----------------------\n",
    "# Train XGBoost\n",
    "# -----------------------\n",
    "xgb = XGBRegressor(\n",
    "    n_estimators=1000,\n",
    "    learning_rate=0.05,\n",
    "    max_depth=6,\n",
    "    subsample=0.8,\n",
    "    colsample_bytree=0.8,\n",
    "    random_state=42\n",
    ")\n",
    "xgb.fit(X_train, y_train)\n",
    "\n",
    "# -----------------------\n",
    "# Evaluate performance\n",
    "# -----------------------\n",
    "y_pred_log = xgb.predict(X_test)\n",
    "y_pred = np.exp(y_pred_log)\n",
    "y_test_orig = np.exp(y_test)\n",
    "\n",
    "rmse = np.sqrt(mean_squared_error(y_test_orig, y_pred))\n",
    "r2 = r2_score(y_test_orig, y_pred)\n",
    "print(f\"RMSE: {rmse:.2f}\")\n",
    "print(f\"R2 Score: {r2:.4f}\")\n",
    "\n",
    "# -----------------------\n",
    "# Feature importance\n",
    "# -----------------------\n",
    "importance = pd.DataFrame({\n",
    "    'Feature': X.columns,\n",
    "    'Importance': xgb.feature_importances_\n",
    "}).sort_values(by='Importance', ascending=False)\n",
    "\n",
    "print(importance)\n",
    "\n",
    "# -----------------------\n",
    "# Correlation with price after encoding\n",
    "# -----------------------\n",
    "corr_with_price = pd.concat([X, np.exp(y)], axis=1).corr()['price'].sort_values(ascending=False)\n",
    "print(corr_with_price)\n"
   ]
  },
  {
   "cell_type": "code",
   "execution_count": 166,
   "id": "10cb549e-3743-4932-93dc-2b4808d35cf1",
   "metadata": {},
   "outputs": [
    {
     "name": "stdout",
     "output_type": "stream",
     "text": [
      "RMSE for each fold: [0.25350521 0.23527451 0.24870619 0.17264829 0.24840521]\n",
      "Mean RMSE: 0.23170787956829267\n",
      "Std RMSE: 0.030145060378816636\n"
     ]
    }
   ],
   "source": [
    "from xgboost import XGBRegressor\n",
    "from sklearn.model_selection import cross_val_score\n",
    "import numpy as np\n",
    "\n",
    "# Define XGBoost\n",
    "xgb = XGBRegressor(\n",
    "    objective='reg:squarederror',\n",
    "    n_estimators=1200,\n",
    "    learning_rate=0.03,\n",
    "    max_depth=7,\n",
    "    subsample=0.9,\n",
    "    colsample_bytree=0.9,\n",
    "    reg_alpha=0.1,\n",
    "    reg_lambda=1.5,\n",
    "    random_state=42\n",
    ")\n",
    "\n",
    "# Perform 5-fold CV with RMSE scoring\n",
    "cv_scores = cross_val_score(\n",
    "    xgb, X, y,\n",
    "    cv=5,\n",
    "    scoring='neg_root_mean_squared_error',  # returns negative RMSE\n",
    "    n_jobs=-1\n",
    ")\n",
    "\n",
    "# Convert to positive RMSE\n",
    "rmse_scores = -cv_scores\n",
    "print(\"RMSE for each fold:\", rmse_scores)\n",
    "print(\"Mean RMSE:\", rmse_scores.mean())\n",
    "print(\"Std RMSE:\", rmse_scores.std())\n"
   ]
  },
  {
   "cell_type": "code",
   "execution_count": 174,
   "id": "0f11277b-16a6-430f-9c91-4d6b5da09dc1",
   "metadata": {},
   "outputs": [
    {
     "name": "stdout",
     "output_type": "stream",
     "text": [
      "Approximate RMSE in price scale (factor): 1.2607513837918845\n",
      "Approximate RMSE in ₹: 9630.222195509365\n"
     ]
    }
   ],
   "source": [
    "# Suppose y is actual price and log-RMSE is from cross-validation\n",
    "log_rmse_mean = 0.23170787956829267\n",
    "\n",
    "#  Approximate RMSE in price scale (multiplicative factor)\n",
    "price_scale_rmse = np.exp(log_rmse_mean)\n",
    "print(\"Approximate RMSE in price scale (factor):\", price_scale_rmse)\n",
    "\n",
    "#  Absolute RMSE in ₹ (example using actual prices)\n",
    "# y = df2['price']  # actual prices\n",
    "# Absolute RMSE ≈ multiplicative factor * mean price\n",
    "mean_price = df['price'].mean()\n",
    "absolute_rmse = (price_scale_rmse - 1) * mean_price\n",
    "print(\"Approximate RMSE in ₹:\", absolute_rmse)\n"
   ]
  },
  {
   "cell_type": "markdown",
   "id": "01c4e000-a6e6-4476-939c-41938cb68ca3",
   "metadata": {},
   "source": [
    "#### Final result\n",
    "##### 1.RMSE: 8546.09\n",
    "\n",
    "##### 2.R2 Score: 0.9200"
   ]
  },
  {
   "cell_type": "code",
   "execution_count": null,
   "id": "88f95ab8-113d-4943-ac24-7070df0f45bd",
   "metadata": {},
   "outputs": [],
   "source": []
  }
 ],
 "metadata": {
  "kernelspec": {
   "display_name": "Python 3 (ipykernel)",
   "language": "python",
   "name": "python3"
  },
  "language_info": {
   "codemirror_mode": {
    "name": "ipython",
    "version": 3
   },
   "file_extension": ".py",
   "mimetype": "text/x-python",
   "name": "python",
   "nbconvert_exporter": "python",
   "pygments_lexer": "ipython3",
   "version": "3.12.4"
  }
 },
 "nbformat": 4,
 "nbformat_minor": 5
}
